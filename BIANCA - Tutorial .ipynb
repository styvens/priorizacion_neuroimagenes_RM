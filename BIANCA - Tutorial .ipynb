{
 "cells": [
  {
   "cell_type": "markdown",
   "metadata": {},
   "source": [
    "### Preparación de las imágenes \n",
    "\n",
    "BIANCA trabaja en el espacio del sujeto, sin embargo todas las modalidades MRI requieren ser registradas a una imagen base en común y tener las mismas dimensiones en términos de resolución y FOV. \n",
    "\n",
    "1. Selecciona la imagen base. Esta será el espacio de referencia para las imágenes de entrada y salida. \n",
    "\n",
    "2. Ejecute extracción de cerebro (BET) en al menos una modalidad con el fin de obtener una máscara cerebral. Si desea restringir aún más el área donde se detectarán las lesiones (y reducir los falsos positivos), puede considerar el enmascaramiento previo como se describe a continuación: \n",
    "\n",
    "    Si ve hiperintensidades de falsos positivos debido a artefactos como los de pulsación de LCR en FLAIR, podría ser útil aplicar una máscara para excluir las regiones afectadas. Tenga en cuenta que BIANCA no está optimizado para la segmentación de lesiones yuxtacorticales, cerebelosas y subcorticales.\n",
    "\n",
    "    El siguiente script crea un ejemplo de máscara de inclusión de imágenes T1, que excluye sustancia gris cortical y las siguientes estructuras: putamen, globo pálido, núcleo accumbens, tálamo, tronco encefálico, cerebelo, hipocampo, amígdala. la sustancia gris cortical se excluye de la máscara cerebral extrayendo el líquido cefalorraquídeo (CSF) cortical del mapa de estimación de volumen parcial (PVE) del CSF de un solo sujeto, dilatándolo para alcanzar la sustancia gris cortical y excluyendo estas áreas. Las otras estructuras se identifican en el espacio MNI, se registran de forma no lineal en las imágenes de los sujetos individuales y se eliminan de la máscara cerebral.\n",
    "    \n",
    "        make_bianca_mask <structural_image> <CSF pve> <warp_file_MNI2structural>                       <keep_intermediate_files>\n",
    "        \n",
    "        \n",
    "    <structural_image>: Nombre de la imagen estructural por ejemplo T1_biascorr. El script trabaja asumiendo que la imagen BET se llamará <structural image>_brain.nii.gz.\n",
    "    <CSF pve>: mapa de de estimación de volumen parcial de CSF, por ejemplo la salida de FSL-FAST\n",
    "    <warp_file_MNI2structural>: corresponde al archivo transformación no lineal del espacio estándar a la imagen estructural. Si se ejecuta fsl_anat, es posible usar el archivo MNI_to_T1_nonlin_field.nii.gz en el directorio de salida. Si se tiene el archivo de transformación de la imagen estructural al espacio estándar MNI, es posible calcular la inversa con el comando invwarp -w warpvol -o invwarpvol -r refvol. \n",
    "    <keep_intermediate_files>: al indicar 1 en este argumento no se eliminará la carpeta con archivos temporales.\n",
    "\n",
    "3. Registre todas las modalidades a la imagen base para cada sujeto\n",
    "\n",
    "#### Preparación del dataset de entrenamiento\n",
    "\n",
    "El algoritmo requiere un conjunto de entresamiento con voxeles pre-clasificados, por ejemplo imagenes manualmente segmentadas. Estas son usadas para crear un conjunto de vectores característicos para las clases *lesión* y *no lesión*\n",
    "\n",
    "Las mascaras de lesión que será utilizadas como conjunto de entrenamiento deben cumplir los siguientes requisitos:\n",
    "\n",
    "- Binaria (1=lesion; 0=no-lesion)\n",
    "- Formato nifti (nii.gz) \n",
    "- En el mismo espacio de la imagen base. Si la segmentación manual fue realizada sobre una imagen en un espacio diferente al espacio base, la mascara de lesión deberá registrarse y transofmrse al espacio de la imagen base. \n",
    "\n",
    "#### Ejecutar BIANCA\n",
    "BIANCA requiere un archivo maestro que contiene una fila por sujeto (por ejemplo T1 y FLAIR) y en cada fila una lista de todos los archivos necesarios para ese sujeto:\n",
    "\n",
    "Las imágenes que se desean usar para clasificación (por ejemplo T1 y FLAIR),todas corregistradas al espacio base. \n",
    "1. Una imagen correspondiente al cerebro extraido con el fin de obtejer una máscara del cerebro.\n",
    "2. Una máscara binaria de la lesión obtenida manualmente corregistrada al espacio base.\n",
    "3. Matriz de transfornmación del espacio del sujeto al espacio estándar. Necesaria para calcular características espaciales a partir de coordenadas MNI. \n",
    "\n",
    "Es decir: \n",
    "\n",
    "FLAIR_brain.nii.gz : imagen estructural principal, con extracción de cerebro\n",
    "FLAIR_Lesion_mask.nii.gz : máscara manual de lesión del sujeto, binaria para ser usada en el entrenamiento de BIANCA \n",
    "FLAIR_brain_to-MNI_xfm.mat : matriz de transformación del espacio del sujeto (imagen estructural principal) al espacio estándar (opcional). Este archivo permitirá el uso de características espaciales (coordenadas MNI)\n",
    "T1_brain_to-FLAIR_brain.nii.gz : entrada adicional (opcional). Otras modalidades que puedan ayudar en la segmentación de la lesión (por ejemplo la imagen T1), todas registradas a la imagen principal.La imagen T1 a utilizar se obtiene de la siguiente manera: \n",
    "\n",
    "![](captura_bianca1a.png)"
   ]
  },
  {
   "cell_type": "markdown",
   "metadata": {},
   "source": [
    "### Datos ejemplo\n",
    "##### Descargue los datos disponibles en: https://fsl.fmrib.ox.ac.uk/fslcourse/  'Structural data for practical 2'\n",
    "![](captura_bianca1.png)\n",
    "\n",
    "##### Al descomprimir observará los siguientes archivos: \n",
    "\n",
    "![](captura_bianca2.png)\n",
    "\n",
    "#####  Acceda a la carpeta bianca para iniciar el trabajo con los datos \n",
    "\n",
    "![](captura_bianca3.png)\n"
   ]
  },
  {
   "cell_type": "markdown",
   "metadata": {},
   "source": [
    "#### El archivo masterfile.txt contiene la siguiente información: \n",
    "![](captura_bianca4.png)\n",
    "\n",
    "bianca --singlefile=masterfile.txt --labelfeaturenum=4 --brainmaskfeaturenum=1 --querysubjectnum=1 --trainingnums=1,2,3,4,5,6,7,8,9,10 --featuresubset=1,2 --matfeaturenum=3 --trainingpts=2000 --nonlespts=10000 --selectpts=noborder -o sub001_bianca_output –v\n",
    "\n",
    "#### --labelfeaturenum=4: \n",
    " Con este comando BIANCA usará datos del archivo masterfile.txt. Buscará información sobre las imagenes pre-etiquetadas en la cuarta columna. \n",
    "\n",
    "#### --querysubjectnum=1\n",
    " si --querysubjectnum está incluido en la lista de --trainingnums, este será automáticamente excluido del conjunto de entrenamiento. De esta manera podemos observar qué tan bien la máscara de lesión obtenida con BIANCA se compara con la máscara manual\n",
    "\n",
    "#### --brainmaskfeaturenum=1\n",
    "El sujeto a segmentar es el especificado en la primera columna del archivo masterfile.txt. Dado que este sujeto también es uno de los sujetos de entrenamiento, BIANCA utilizará solo los 9 restantes para el entrenamiento (como el enfoque LOO, para evitar sesgos y sobreajuste) \n",
    "\n",
    "#### --featuresubset=1,2 \n",
    "BIANCA utilizará como características espaciales las imágenes en la primera y segunda columnas del archivo maestro. Este parámetro contiene una Lista de números de columnas (separados por comas, sin espacios) asociadas al archivo maestro que contiene el nombre de las imágenes para usar como características de intensidad (1,2 en el ejemplo anterior para usar FLAIR [sub-001/FLAIR_brain.nii.gz] y T1 [sub-001/T1_brain_to-FLAIR_brain.nii.gz]) (predeterminado: usar todas las modalidades como características). La imagen utilizada para especificar la máscara distinta de cero (cerebro) debe ser parte del subconjunto de características.\n",
    "\n",
    "\n",
    "#### --matfeaturenum=3\n",
    "número de columna en el archivo maestro de archivos de matriz (matriz de transformación del espacio del sujeto al espacio MNI). Necesario para extraer características espaciales (coordenadas MNI; 3 en el ejemplo anterior)\n",
    "\n",
    "For the training, BIANCA will use, for each training subject, (up to) 2000 points among the voxels labeled as lesion and (up to) 10000 points among the non-lesion voxels, excluding voxels close to the lesion’s edge.\n",
    "\n",
    "#### -o sub001_bianca_output –v\n",
    "La imagen de salida tendrá por nombre: sub001_bianca_output. Verbose mode is on."
   ]
  },
  {
   "cell_type": "code",
   "execution_count": 3,
   "metadata": {},
   "outputs": [],
   "source": [
    "%%bash\n",
    "cd /Users/neurofuncional/Downloads/check_bianca_2nd/seg_struc/bianca\n",
    "bianca --singlefile=masterfile.txt --trainingnums=1,2,3,4,5,6,7,8,9 --labelfeaturenum=4 --querysubjectnum=10 --brainmaskfeaturenum=1 --featuresubset=1,2 --matfeaturenum=3 --trainingpts=2000 --nonlespts=10000 --selectpts=noborder -o bianca_output\n",
    "\n"
   ]
  }
 ],
 "metadata": {
  "kernelspec": {
   "display_name": "Python 2",
   "language": "python",
   "name": "python2"
  },
  "language_info": {
   "codemirror_mode": {
    "name": "ipython",
    "version": 2
   },
   "file_extension": ".py",
   "mimetype": "text/x-python",
   "name": "python",
   "nbconvert_exporter": "python",
   "pygments_lexer": "ipython2",
   "version": "2.7.16"
  }
 },
 "nbformat": 4,
 "nbformat_minor": 2
}
