{
 "cells": [
  {
   "cell_type": "code",
   "execution_count": null,
   "metadata": {},
   "outputs": [],
   "source": [
    "import numpy as np\n",
    "from nilearn import image\n",
    "from nilearn.image import get_data\n",
    "import matplotlib\n",
    "import matplotlib.pyplot as plt\n",
    "import seaborn as sns\n",
    "from arch.bootstrap import IIDBootstrap\n",
    "from scipy.stats import kurtosis\n",
    "import re\n",
    "import time\n",
    "import json"
   ]
  },
  {
   "cell_type": "markdown",
   "metadata": {},
   "source": [
    "# Data"
   ]
  },
  {
   "cell_type": "code",
   "execution_count": null,
   "metadata": {},
   "outputs": [],
   "source": [
    "import glob\n",
    "import pandas as pd\n",
    "path= '/dicom/'\n",
    "label_path='with_category.csv'\n",
    "indicative=\"000\"\n",
    "df_labels=pd.read_csv(label_path,sep=';')\n",
    "df_labels['id1']=indicative+df_labels['id'].astype(str)\n",
    "\n",
    "df_labels['path']=path+df_labels['id1']+'/'\n",
    "df_labels.path[1]\n",
    "#glob.glob(path + \"/*\")"
   ]
  },
  {
   "cell_type": "code",
   "execution_count": null,
   "metadata": {},
   "outputs": [],
   "source": [
    "# skipping studies with previous surgeries or artifacts\n",
    "skip = ['00020023096','00020029351','00030026189','00030037155','00030037273','00050009584','00050002822',\n",
    "        '00050004047','00050004076','00050004345','00050004468','00050004755']\n",
    "df_labels=df_labels[~df_labels.id1.isin(skip)]"
   ]
  },
  {
   "cell_type": "code",
   "execution_count": null,
   "metadata": {},
   "outputs": [],
   "source": [
    "path_health=df_labels[df_labels.label==1].path\n",
    "path_pathologic=df_labels[df_labels.label==0].path\n",
    "nx=45;ny=109;nz=91\n",
    "space = 'mask'\n",
    "dat_healt=getDataFromDirectoryHPLE(path_health.values,space,nx,ny,nz)\n",
    "dat_pathologic=getDataFromDirectoryHPLE(path_pathologic.values,space,nx,ny,nz)"
   ]
  },
  {
   "cell_type": "code",
   "execution_count": null,
   "metadata": {},
   "outputs": [],
   "source": [
    "print('health neuroimaging: ',len(dat_healt))\n",
    "print('pathologic neuroimaging: ',len(dat_pathologic))"
   ]
  },
  {
   "cell_type": "markdown",
   "metadata": {},
   "source": [
    "# Entropy of local values permuted between hemispheres (HPLE)"
   ]
  },
  {
   "cell_type": "code",
   "execution_count": null,
   "metadata": {},
   "outputs": [],
   "source": [
    "quantiles = [0.25,0.5,0.75]"
   ]
  },
  {
   "cell_type": "code",
   "execution_count": null,
   "metadata": {},
   "outputs": [],
   "source": [
    "%%time\n",
    "results_health = imageCrossPermutEntropy1(dat_healt,quantiles,2)"
   ]
  },
  {
   "cell_type": "code",
   "execution_count": null,
   "metadata": {},
   "outputs": [],
   "source": [
    "results_health['mean_entropy_y'][0:10]"
   ]
  },
  {
   "cell_type": "code",
   "execution_count": null,
   "metadata": {},
   "outputs": [],
   "source": [
    "results_health['mean_entropy_x'][0:10]"
   ]
  },
  {
   "cell_type": "code",
   "execution_count": null,
   "metadata": {},
   "outputs": [],
   "source": [
    "%%time\n",
    "results_pathol = imageCrossPermutEntropy1(dat_pathologic,quantiles,2)"
   ]
  },
  {
   "cell_type": "code",
   "execution_count": null,
   "metadata": {},
   "outputs": [],
   "source": [
    "results_pathol['mean_entropy_y'][0:10]"
   ]
  },
  {
   "cell_type": "code",
   "execution_count": null,
   "metadata": {},
   "outputs": [],
   "source": [
    "results_pathol['mean_entropy_x'][0:10]"
   ]
  },
  {
   "cell_type": "code",
   "execution_count": null,
   "metadata": {},
   "outputs": [],
   "source": [
    "r2=np.divide(results_pathol['mean_entropy_x'],results_pathol['mean_entropy_y'])"
   ]
  },
  {
   "cell_type": "code",
   "execution_count": null,
   "metadata": {},
   "outputs": [],
   "source": [
    "r1=np.divide(results_health['mean_entropy_x'],results_health['mean_entropy_y'])"
   ]
  },
  {
   "cell_type": "code",
   "execution_count": null,
   "metadata": {},
   "outputs": [],
   "source": [
    "np.mean(r2)"
   ]
  },
  {
   "cell_type": "code",
   "execution_count": null,
   "metadata": {},
   "outputs": [],
   "source": [
    "np.mean(r1)"
   ]
  },
  {
   "cell_type": "code",
   "execution_count": null,
   "metadata": {},
   "outputs": [],
   "source": [
    "r1[0:10]"
   ]
  },
  {
   "cell_type": "code",
   "execution_count": null,
   "metadata": {},
   "outputs": [],
   "source": [
    "r2[0:10]"
   ]
  },
  {
   "cell_type": "code",
   "execution_count": null,
   "metadata": {},
   "outputs": [],
   "source": [
    "# Save healty\n",
    "dumped_healty = json.dumps(results_health, cls=NumpyEncoder) # , sort_keys=False, indent=4\n",
    "\n",
    "with open('imageCrossPermutEntropy_helthy_V2.json', 'w') as f:\n",
    "    json.dump(dumped_healty, f) # , sort_keys=False, indent=4"
   ]
  },
  {
   "cell_type": "code",
   "execution_count": null,
   "metadata": {},
   "outputs": [],
   "source": [
    "# Save patholigic\n",
    "dumped_pathologic = json.dumps(results_pathol, cls=NumpyEncoder) # , sort_keys=False, indent=4\n",
    "\n",
    "with open('imageCrossPermutEntropy_pathologic_V2.json', 'w') as f:\n",
    "    json.dump(dumped_pathologic, f) # , sort_keys=False, indent=4"
   ]
  },
  {
   "cell_type": "code",
   "execution_count": null,
   "metadata": {},
   "outputs": [],
   "source": [
    "# Load data healty\n",
    "with open('imageCrossPermutEntropy_helthy_V2.json', 'r') as fp:\n",
    "    helth = json.load(fp)\n",
    "results_health = json.loads(helth) "
   ]
  },
  {
   "cell_type": "code",
   "execution_count": null,
   "metadata": {},
   "outputs": [],
   "source": [
    "# Load data pathologic\n",
    "with open('imageCrossPermutEntropy_pathologic_V2.json', 'r') as fp:\n",
    "    pathologic = json.load(fp)\n",
    "results_pathol = json.loads(pathologic) "
   ]
  },
  {
   "cell_type": "markdown",
   "metadata": {},
   "source": [
    "# Confusion matrix according to significance levels"
   ]
  },
  {
   "cell_type": "code",
   "execution_count": null,
   "metadata": {},
   "outputs": [],
   "source": [
    "p_ref=np.arange(0+0.01,0.2+0.01,0.01)\n",
    "p_ref=np.sort(np.append(p_ref,0.001))\n",
    "HPLE_perform = HPLE(results_health,results_pathol,p_ref,'t_test')"
   ]
  },
  {
   "cell_type": "code",
   "execution_count": null,
   "metadata": {},
   "outputs": [],
   "source": [
    "results_pathol.keys()"
   ]
  },
  {
   "cell_type": "code",
   "execution_count": null,
   "metadata": {},
   "outputs": [],
   "source": [
    "f, (ax) = plt.subplots(1, 1,figsize=(10, 5))\n",
    "t1 = np.arange(0.0, 1.0, 0.01)\n",
    "for v in ['Acc','Precision','Recall','F1_score']:\n",
    "    plt.plot(p_ref, HPLE_perform[v], label=v)\n",
    "\n",
    "ax.set(xlabel='Significance level '+r'$\\alpha$',ylabel= 'Indicator values')\n",
    "plt.legend(bbox_to_anchor=(.4, 1), ncol=2, title='Indicator')\n",
    "plt.show()"
   ]
  },
  {
   "cell_type": "code",
   "execution_count": null,
   "metadata": {},
   "outputs": [],
   "source": []
  }
 ],
 "metadata": {
  "kernelspec": {
   "display_name": "Python 3",
   "language": "python",
   "name": "python3"
  },
  "language_info": {
   "codemirror_mode": {
    "name": "ipython",
    "version": 3
   },
   "file_extension": ".py",
   "mimetype": "text/x-python",
   "name": "python",
   "nbconvert_exporter": "python",
   "pygments_lexer": "ipython3",
   "version": "3.7.2"
  }
 },
 "nbformat": 4,
 "nbformat_minor": 2
}
