{
 "cells": [
  {
   "cell_type": "markdown",
   "metadata": {},
   "source": [
    "# EigenFaces with Normalized Cross Correlation (NCC) data"
   ]
  },
  {
   "cell_type": "code",
   "execution_count": null,
   "metadata": {},
   "outputs": [],
   "source": [
    "import numpy as np\n",
    "from nilearn import image\n",
    "from nilearn.image import get_data\n",
    "import matplotlib\n",
    "import matplotlib.pyplot as plt\n",
    "import seaborn as sns\n",
    "from arch.bootstrap import IIDBootstrap\n",
    "from scipy.stats import kurtosis\n",
    "import math\n",
    "import re\n",
    "import time\n",
    "import json\n",
    "import glob\n",
    "import pandas as pd\n",
    "from sklearn.decomposition import PCA\n",
    "from sklearn.model_selection import train_test_split\n",
    "from sklearn.metrics import accuracy_score, precision_score, classification_report,f1_score,roc_auc_score,recall_score\n",
    "from sklearn.model_selection import KFold\n",
    "from sklearn.model_selection import cross_val_score\n",
    "from sklearn.ensemble import RandomForestClassifier\n",
    "from sklearn.linear_model import LogisticRegression\n",
    "from sklearn.preprocessing import StandardScaler\n",
    "from sklearn.ensemble import GradientBoostingClassifier, AdaBoostClassifier\n",
    "from sklearn.discriminant_analysis import LinearDiscriminantAnalysis\n",
    "from sklearn.tree import DecisionTreeClassifier\n",
    "from sklearn.neighbors import KNeighborsClassifier\n",
    "from sklearn.naive_bayes import GaussianNB\n",
    "from sklearn.svm import SVC\n",
    "from sklearn.ensemble import VotingClassifier\n",
    "from sklearn.metrics import roc_curve,auc"
   ]
  },
  {
   "cell_type": "code",
   "execution_count": null,
   "metadata": {},
   "outputs": [],
   "source": [
    "path= '/dicom/'\n",
    "label_path='with_category.csv'\n",
    "indicative=\"000\"\n",
    "df_labels=pd.read_csv(label_path,sep=';')\n",
    "df_labels['id1']=indicative+df_labels['id'].astype(str)\n",
    "\n",
    "df_labels['path']=path+df_labels['id1']+'/'\n",
    "df_labels.path[1]\n",
    "#glob.glob(path + \"/*\")"
   ]
  },
  {
   "cell_type": "code",
   "execution_count": null,
   "metadata": {},
   "outputs": [],
   "source": [
    "# skipping studies with previous surgeries or artifacts\n",
    "skip = ['00020023096','00020029351','00030026189','00030037155','00030037273','00050009584','00050002822',\n",
    "        '00050004047','00050004076','00050004345','00050004468','00050004755']\n",
    "df_labels=df_labels[~df_labels.id1.isin(skip)]"
   ]
  },
  {
   "cell_type": "markdown",
   "metadata": {},
   "source": [
    "# Eigenfunction by hemispheres"
   ]
  },
  {
   "cell_type": "code",
   "execution_count": null,
   "metadata": {},
   "outputs": [],
   "source": [
    "path_health=df_labels[df_labels.label==1].path\n",
    "path_pathologic=df_labels[df_labels.label==0].path\n",
    "space = 'hemispheres'\n",
    "\n",
    "if(space=='hemispheres'):\n",
    "    nx=45;ny=109;nz=91\n",
    "elif(space=='all'):\n",
    "    nx=91;ny=109;nz=91\n",
    "\n",
    "dat_healt=getDataFromDirectory('/dicom/',path_health.values,space,nx,ny,nz,'mean')\n",
    "dat_pathologic=getDataFromDirectory('/dicom/',path_pathologic.values,space,nx,ny,nz,'mean')"
   ]
  },
  {
   "cell_type": "code",
   "execution_count": null,
   "metadata": {},
   "outputs": [],
   "source": [
    "print('health neuroimaging: ',len(dat_healt['right']))\n",
    "print('pathologic neuroimaging: ',len(dat_pathologic['right']))"
   ]
  },
  {
   "cell_type": "code",
   "execution_count": null,
   "metadata": {},
   "outputs": [],
   "source": [
    "heat_cov_right, heat_cov_left = imagCov(dat_healt,'hemispheres')\n",
    "path_cov_right, path_cov_left = imagCov(dat_pathologic,'hemispheres')"
   ]
  },
  {
   "cell_type": "code",
   "execution_count": null,
   "metadata": {},
   "outputs": [],
   "source": [
    "heat_cov_left.shape"
   ]
  },
  {
   "cell_type": "code",
   "execution_count": null,
   "metadata": {},
   "outputs": [],
   "source": [
    "# Valores singulares\n",
    "_,s_h_right,_ = np.linalg.svd(heat_cov_right)\n",
    "_,s_h_left,_ = np.linalg.svd(heat_cov_left)\n",
    "_,s_p_right,_ = np.linalg.svd(path_cov_right)\n",
    "_,s_p_left,_ = np.linalg.svd(path_cov_left)"
   ]
  },
  {
   "cell_type": "code",
   "execution_count": null,
   "metadata": {},
   "outputs": [],
   "source": [
    "comp_healt_rigth = CompNum(s_h_right,0.99)\n",
    "comp_healt_left = CompNum(s_h_left,0.99)\n",
    "comp_patho_right = CompNum(s_p_right,0.99)\n",
    "comp_patho_left = CompNum(s_p_left,0.99)\n",
    "\n",
    "print(\"Healthy Right Components:\", comp_healt_rigth,\n",
    "      \"\\nHealthy Right Components:\", comp_healt_left,\n",
    "     \"\\nPathology Right Components:\", comp_patho_right,\n",
    "     \"\\nPathologic Right Components:\", comp_patho_left)"
   ]
  },
  {
   "cell_type": "code",
   "execution_count": null,
   "metadata": {},
   "outputs": [],
   "source": [
    "n_comp_healt = [comp_healt_rigth,comp_healt_left]\n",
    "heat_pca_right, heat_pca_left = imagPCA(dat_healt,n_comp_healt,'hemispheres')"
   ]
  },
  {
   "cell_type": "code",
   "execution_count": null,
   "metadata": {},
   "outputs": [],
   "source": [
    "heat_pca_right.components_.shape"
   ]
  },
  {
   "cell_type": "code",
   "execution_count": null,
   "metadata": {},
   "outputs": [],
   "source": [
    "heat_pca_left.components_.shape"
   ]
  },
  {
   "cell_type": "code",
   "execution_count": null,
   "metadata": {},
   "outputs": [],
   "source": [
    "n_comp_patho = [comp_patho_right,comp_patho_left]\n",
    "patho_pca_right, patho_pca_left = imagPCA(dat_pathologic,n_comp_patho)"
   ]
  },
  {
   "cell_type": "code",
   "execution_count": null,
   "metadata": {},
   "outputs": [],
   "source": [
    "patho_pca_right.components_.shape"
   ]
  },
  {
   "cell_type": "code",
   "execution_count": null,
   "metadata": {},
   "outputs": [],
   "source": [
    "patho_pca_left.components_.shape"
   ]
  },
  {
   "cell_type": "markdown",
   "metadata": {},
   "source": [
    "## Data projection"
   ]
  },
  {
   "cell_type": "code",
   "execution_count": null,
   "metadata": {},
   "outputs": [],
   "source": [
    "healt_right_projected = heat_pca_right.transform(dat_healt['right'])\n",
    "healt_left_projected = heat_pca_left.transform(dat_healt['left'])\n",
    "patho_right_projected = patho_pca_right.transform(dat_pathologic['right'])\n",
    "patho_left_projected = patho_pca_left.transform(dat_pathologic['left'])"
   ]
  },
  {
   "cell_type": "code",
   "execution_count": null,
   "metadata": {},
   "outputs": [],
   "source": [
    "print(\"Healthy Right Projected Shape:\", healt_right_projected.shape,\n",
    "      \"\\nHealthy Right Projected Shape:\", healt_left_projected.shape,\n",
    "     \"\\nPathology Right Projected Shape:\", patho_right_projected.shape,\n",
    "     \"\\nPathologic Right Projected Shape:\", patho_left_projected.shape)"
   ]
  },
  {
   "cell_type": "markdown",
   "metadata": {},
   "source": [
    "## Hemispheres comparison"
   ]
  },
  {
   "cell_type": "code",
   "execution_count": null,
   "metadata": {},
   "outputs": [],
   "source": [
    "_ ,_, diff_healthy = hemisCOmpar(healt_right_projected,healt_left_projected,2)\n",
    "_ ,_, diff_pathology = hemisCOmpar(patho_right_projected,patho_left_projected,2)"
   ]
  },
  {
   "cell_type": "code",
   "execution_count": null,
   "metadata": {},
   "outputs": [],
   "source": [
    "np.quantile(diff_healthy,[0.025,0.05,0.25,0.5,0.75,0.95,0.975])"
   ]
  },
  {
   "cell_type": "code",
   "execution_count": null,
   "metadata": {},
   "outputs": [],
   "source": [
    "np.quantile(diff_pathology,[0.025,0.05,0.25,0.5,0.75,0.95,0.975])"
   ]
  },
  {
   "cell_type": "code",
   "execution_count": null,
   "metadata": {},
   "outputs": [],
   "source": [
    "p1=sns.kdeplot(diff_healthy, shade=True, color=\"r\")\n",
    "p1=sns.kdeplot(diff_pathology, shade=True, color=\"b\")"
   ]
  },
  {
   "cell_type": "markdown",
   "metadata": {},
   "source": [
    "# Eigenfunction all"
   ]
  },
  {
   "cell_type": "code",
   "execution_count": null,
   "metadata": {},
   "outputs": [],
   "source": [
    "path_health=df_labels[df_labels.label==1].path\n",
    "path_pathologic=df_labels[df_labels.label==0].path\n",
    "space = 'all'\n",
    "\n",
    "if(space=='hemispheres'):\n",
    "    nx=45;ny=109;nz=91\n",
    "elif(space=='all'):\n",
    "    nx=91;ny=109;nz=91\n",
    "\n",
    "dat_healt=getDataFromDirectory('/dicom/',path_health.values,space,nx,ny,nz,'mean')\n",
    "dat_pathologic=getDataFromDirectory('/dicom/',path_pathologic.values,space,nx,ny,nz,'mean')"
   ]
  },
  {
   "cell_type": "code",
   "execution_count": null,
   "metadata": {},
   "outputs": [],
   "source": [
    "import os\n",
    "Eigen_path = \"root/Eigen_imagenes/\"\n",
    "Eigen_studies=os.listdir(Eigen_path)\n",
    "list_est_Eigen = []\n",
    "for p in Eigen_studies:\n",
    "    if(p!='.DS_Store'):\n",
    "        list_est_Eigen.append(Eigen_path+p+'/')\n",
    "Eigen_data=getDataFromDirectory('/Eigen_imagenes/',list_est_Eigen,space,nx,ny,nz,'mean')"
   ]
  },
  {
   "cell_type": "code",
   "execution_count": null,
   "metadata": {},
   "outputs": [],
   "source": [
    "print('health neuroimaging: ',len(dat_healt['data']))\n",
    "print('pathologic neuroimaging: ',len(dat_pathologic['data']))\n",
    "print('healty neuroimaging by Eigenfaces: ',len(Eigen_data['data']))"
   ]
  },
  {
   "cell_type": "markdown",
   "metadata": {},
   "source": [
    "## Random select healty data"
   ]
  },
  {
   "cell_type": "code",
   "execution_count": null,
   "metadata": {},
   "outputs": [],
   "source": [
    "%%time\n",
    "results_cv,res_indicators,res_accuracy,n_componentes = mainRgress(Eigen_data['data'],0.99,dat_healt['data'],dat_pathologic['data'],n_iterEigen=200,\n",
    "                                       size_eigen_sample=0.6,scoring='accuracy',n_splits=10,n_iter_fitModels=20)"
   ]
  },
  {
   "cell_type": "code",
   "execution_count": null,
   "metadata": {},
   "outputs": [],
   "source": [
    "np.mean(n_componentes)\n"
   ]
  },
  {
   "cell_type": "code",
   "execution_count": null,
   "metadata": {},
   "outputs": [],
   "source": [
    "CV_plot(results_cv,'accuracy')"
   ]
  },
  {
   "cell_type": "code",
   "execution_count": null,
   "metadata": {},
   "outputs": [],
   "source": [
    "# groups by indicators analysis\n",
    "vari = ['Helthy','Pathologic','micro avg','macro avg','weighted avg']"
   ]
  },
  {
   "cell_type": "markdown",
   "metadata": {},
   "source": [
    "## Desicion trees"
   ]
  },
  {
   "cell_type": "code",
   "execution_count": null,
   "metadata": {
    "scrolled": true
   },
   "outputs": [],
   "source": [
    "CART=res_indicators['CART']\n",
    "CART['indicator']=CART.index\n",
    "for v in vari:\n",
    "    res_ind = modelIndicators(CART,v,'indicator')\n",
    "    print(v,'\\n',res_ind,'\\n')\n",
    "acc(res_accuracy,'CART')"
   ]
  },
  {
   "cell_type": "markdown",
   "metadata": {},
   "source": [
    "## Suport vector machine"
   ]
  },
  {
   "cell_type": "code",
   "execution_count": null,
   "metadata": {},
   "outputs": [],
   "source": [
    "SVM=res_indicators['SVM']\n",
    "SVM['indicator']=SVM.index\n",
    "for v in vari:\n",
    "    res_ind = modelIndicators(SVM,v,'indicator')\n",
    "    print(v,'\\n',res_ind,'\\n')\n",
    "acc(res_accuracy,'SVM')"
   ]
  },
  {
   "cell_type": "markdown",
   "metadata": {},
   "source": [
    "## Random forest"
   ]
  },
  {
   "cell_type": "code",
   "execution_count": null,
   "metadata": {},
   "outputs": [],
   "source": [
    "RF=res_indicators['RF']\n",
    "RF['indicator']=RF.index\n",
    "for v in vari:\n",
    "    res_ind = modelIndicators(RF,v,'indicator')\n",
    "    print(v,'\\n',res_ind,'\\n')\n",
    "acc(res_accuracy,'RF')"
   ]
  },
  {
   "cell_type": "markdown",
   "metadata": {},
   "source": [
    "## Stocastic gradient boosting"
   ]
  },
  {
   "cell_type": "code",
   "execution_count": null,
   "metadata": {},
   "outputs": [],
   "source": [
    "SGB=res_indicators['SGB']\n",
    "SGB['indicator']=SGB.index\n",
    "for v in vari:\n",
    "    res_ind = modelIndicators(SGB,v,'indicator')\n",
    "    print(v,'\\n',res_ind,'\\n')\n",
    "acc(res_accuracy,'SGB')"
   ]
  },
  {
   "cell_type": "markdown",
   "metadata": {},
   "source": [
    "# Best model: SGB"
   ]
  },
  {
   "cell_type": "code",
   "execution_count": null,
   "metadata": {},
   "outputs": [],
   "source": [
    "heat_cov = imagCov(Eigen_data['data'],space='all')\n",
    "path_cov = imagCov(dat_pathologic['data'],space='all')"
   ]
  },
  {
   "cell_type": "code",
   "execution_count": null,
   "metadata": {},
   "outputs": [],
   "source": [
    "# singular values\n",
    "_,s_h,_ = np.linalg.svd(heat_cov)\n",
    "_,s_p,_ = np.linalg.svd(path_cov)"
   ]
  },
  {
   "cell_type": "code",
   "execution_count": null,
   "metadata": {},
   "outputs": [],
   "source": [
    "comp_healt = CompNum(s_h,0.90)\n",
    "comp_patho = CompNum(s_p,0.90)\n",
    "\n",
    "print(\"Healthy Components:\", comp_healt,\n",
    "     \"\\nPathology Components:\", comp_patho)"
   ]
  },
  {
   "cell_type": "code",
   "execution_count": null,
   "metadata": {},
   "outputs": [],
   "source": [
    "# selelct the greather componentes numbers\n",
    "n_comp = max(comp_healt,comp_patho)\n",
    "n_comp = [n_comp]\n",
    "n_comp"
   ]
  },
  {
   "cell_type": "code",
   "execution_count": null,
   "metadata": {},
   "outputs": [],
   "source": [
    "heat_pca = imagPCA(Eigen_data['data'],n_comp,'all')"
   ]
  },
  {
   "cell_type": "code",
   "execution_count": null,
   "metadata": {},
   "outputs": [],
   "source": [
    "heat_pca.components_.shape"
   ]
  },
  {
   "cell_type": "markdown",
   "metadata": {},
   "source": [
    "## Data projection"
   ]
  },
  {
   "cell_type": "markdown",
   "metadata": {},
   "source": [
    "### Projection pathologic on helthy space"
   ]
  },
  {
   "cell_type": "code",
   "execution_count": null,
   "metadata": {},
   "outputs": [],
   "source": [
    "healtONhealt = heat_pca.transform(dat_healt['data'])\n",
    "patholONhealt = heat_pca.transform(dat_pathologic['data'])"
   ]
  },
  {
   "cell_type": "code",
   "execution_count": null,
   "metadata": {},
   "outputs": [],
   "source": [
    "print(\"Healthy Projected Shape:\", healtONhealt.shape,\n",
    "     \"\\nPathology Projected Shape:\", patholONhealt.shape)"
   ]
  },
  {
   "cell_type": "markdown",
   "metadata": {},
   "source": [
    "## Models 1 : with pathologic on helathy space"
   ]
  },
  {
   "cell_type": "code",
   "execution_count": null,
   "metadata": {},
   "outputs": [],
   "source": [
    "h = np.zeros(healtONhealt.shape[0])\n",
    "p = np.ones(patholONhealt.shape[0])\n",
    "x = np.concatenate((healtONhealt,patholONhealt),axis=0)\n",
    "y = np.concatenate((h,p),axis=0)\n",
    "\n",
    "df = pd.DataFrame(x)\n",
    "df['y'] = y"
   ]
  },
  {
   "cell_type": "code",
   "execution_count": null,
   "metadata": {},
   "outputs": [],
   "source": [
    "df.shape"
   ]
  },
  {
   "cell_type": "code",
   "execution_count": null,
   "metadata": {},
   "outputs": [],
   "source": [
    "X_train, X_test, y_train, y_test = train_test_split(x, y, test_size=0.3, stratify=y)#,random_state=0)"
   ]
  },
  {
   "cell_type": "code",
   "execution_count": null,
   "metadata": {},
   "outputs": [],
   "source": [
    "scaler = StandardScaler().fit(X_train)\n",
    "X_train = scaler.transform(X_train)\n",
    "X_test = scaler.transform(X_test)"
   ]
  },
  {
   "cell_type": "markdown",
   "metadata": {},
   "source": [
    "## Stocastic Gradient Boosting"
   ]
  },
  {
   "cell_type": "code",
   "execution_count": null,
   "metadata": {},
   "outputs": [],
   "source": [
    "SGB = GradientBoostingClassifier(n_estimators=100)\n",
    "SGB.fit(X_train, y_train)"
   ]
  },
  {
   "cell_type": "code",
   "execution_count": null,
   "metadata": {},
   "outputs": [],
   "source": [
    "y_test_pred = SGB.predict(X_test)"
   ]
  },
  {
   "cell_type": "code",
   "execution_count": null,
   "metadata": {},
   "outputs": [],
   "source": [
    "accuracy_score(y_true=y_test, y_pred=y_test_pred)"
   ]
  },
  {
   "cell_type": "code",
   "execution_count": null,
   "metadata": {},
   "outputs": [],
   "source": [
    "print(classification_report(y_true=y_test, y_pred=y_test_pred, target_names=[\"Helthy\", \"Parhologic\"]))"
   ]
  },
  {
   "cell_type": "code",
   "execution_count": null,
   "metadata": {},
   "outputs": [],
   "source": [
    "plt.figure()\n",
    "plt.title(\"Heatmap\")\n",
    "classes_dict = {'Actual': y_test.tolist(), 'Predicted': y_test_pred.tolist()}\n",
    "classes_df = pd.DataFrame(classes_dict, columns=[\"Actual\", \"Predicted\"])\n",
    "conf_matrix = pd.crosstab(classes_df['Actual'], classes_df['Predicted'], rownames=['Actual'], colnames=['Predicted'])\n",
    "ax=sns.heatmap(conf_matrix, annot=True,cmap='Blues', fmt='.0f');\n",
    "ax.invert_yaxis()\n",
    "ax.invert_xaxis()"
   ]
  },
  {
   "cell_type": "code",
   "execution_count": null,
   "metadata": {},
   "outputs": [],
   "source": [
    "fpr, tpr, _ = roc_curve(y_test, y_test_pred)\n",
    "roc_auc = auc(fpr, tpr)"
   ]
  },
  {
   "cell_type": "code",
   "execution_count": null,
   "metadata": {},
   "outputs": [],
   "source": [
    "plt.figure(1,figsize=(10, 5))\n",
    "plt.plot([0, 1], [0, 1], color='navy', lw=2, linestyle='--')\n",
    "plt.plot(fpr, tpr, color='darkorange',\n",
    "         lw=2,label='ROC curve (area = %0.2f)' % roc_auc)\n",
    "plt.xlabel('False positive rate')\n",
    "plt.ylabel('True positive rate')\n",
    "plt.title('ROC curve')\n",
    "plt.legend(loc='best')\n",
    "plt.show()"
   ]
  }
 ],
 "metadata": {
  "kernelspec": {
   "display_name": "Python 3",
   "language": "python",
   "name": "python3"
  },
  "language_info": {
   "codemirror_mode": {
    "name": "ipython",
    "version": 3
   },
   "file_extension": ".py",
   "mimetype": "text/x-python",
   "name": "python",
   "nbconvert_exporter": "python",
   "pygments_lexer": "ipython3",
   "version": "3.7.2"
  }
 },
 "nbformat": 4,
 "nbformat_minor": 2
}
