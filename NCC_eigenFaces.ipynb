{
 "cells": [
  {
   "cell_type": "markdown",
   "metadata": {},
   "source": [
    "# EigenFaces with Normalized Cross Correlation (NCC) data"
   ]
  },
  {
   "cell_type": "code",
   "execution_count": null,
   "metadata": {},
   "outputs": [],
   "source": [
    "import numpy as np\n",
    "from nilearn import image\n",
    "from nilearn.image import get_data\n",
    "import matplotlib\n",
    "import matplotlib.pyplot as plt\n",
    "import seaborn as sns\n",
    "from arch.bootstrap import IIDBootstrap\n",
    "from scipy.stats import kurtosis\n",
    "import re\n",
    "import time\n",
    "import json\n",
    "import glob\n",
    "import pandas as pd\n",
    "from sklearn.decomposition import PCA\n",
    "from sklearn.model_selection import train_test_split\n",
    "from sklearn.metrics import accuracy_score, precision_score, classification_report,f1_score,roc_auc_score,recall_score\n",
    "from sklearn.model_selection import KFold\n",
    "from sklearn.model_selection import cross_val_score\n",
    "from sklearn.ensemble import RandomForestClassifier\n",
    "from sklearn.linear_model import LogisticRegression\n",
    "from sklearn.preprocessing import StandardScaler\n",
    "from sklearn.ensemble import GradientBoostingClassifier, AdaBoostClassifier\n",
    "from sklearn.discriminant_analysis import LinearDiscriminantAnalysis\n",
    "from sklearn.tree import DecisionTreeClassifier\n",
    "from sklearn.neighbors import KNeighborsClassifier\n",
    "from sklearn.naive_bayes import GaussianNB\n",
    "from sklearn.svm import SVC\n",
    "from sklearn.ensemble import VotingClassifier\n",
    "from sklearn.metrics import roc_curve,auc"
   ]
  },
  {
   "cell_type": "code",
   "execution_count": null,
   "metadata": {},
   "outputs": [],
   "source": [
    "path= '/dicom/'\n",
    "label_path='with_category.csv'\n",
    "indicative=\"000\"\n",
    "df_labels=pd.read_csv(label_path,sep=';')\n",
    "df_labels['id1']=indicative+df_labels['id'].astype(str)\n",
    "df_labels['path']=path+df_labels['id1']+'/'"
   ]
  },
  {
   "cell_type": "code",
   "execution_count": null,
   "metadata": {},
   "outputs": [],
   "source": [
    "# skipping studies with previous surgeries or artifacts\n",
    "skip = ['00020023096','00020029351','00030026189','00030037155','00030037273','00050009584','00050002822',\n",
    "        '00050004047','00050004076','00050004345','00050004468','00050004755']\n",
    "df_labels=df_labels[~df_labels.id1.isin(skip)]"
   ]
  },
  {
   "cell_type": "markdown",
   "metadata": {},
   "source": [
    "# 1. Get images and collapsing data"
   ]
  },
  {
   "cell_type": "code",
   "execution_count": null,
   "metadata": {},
   "outputs": [],
   "source": [
    "path_health=df_labels[df_labels.label==1].path\n",
    "path_pathologic=df_labels[df_labels.label==0].path\n",
    "space = 'hemispheres'\n",
    "\n",
    "if(space=='hemispheres'):\n",
    "    nx=45;ny=109;nz=91\n",
    "elif(space=='all'):\n",
    "    nx=91;ny=109;nz=91\n",
    "\n",
    "dat_healt=getDataFromDirectory_NCC_eigen(path_health.values,space,nx,ny,nz,'mean')\n",
    "dat_pathologic=getDataFromDirectory_NCC_eigen(path_pathologic.values,space,nx,ny,nz,'mean')"
   ]
  },
  {
   "cell_type": "code",
   "execution_count": null,
   "metadata": {},
   "outputs": [],
   "source": [
    "print('health neuroimaging: ',len(dat_healt['right']))\n",
    "print('pathologic neuroimaging: ',len(dat_pathologic['right']))"
   ]
  },
  {
   "cell_type": "markdown",
   "metadata": {},
   "source": [
    "# Eigenfunction by hemispheres"
   ]
  },
  {
   "cell_type": "code",
   "execution_count": null,
   "metadata": {},
   "outputs": [],
   "source": [
    "heat_cov_right, heat_cov_left = imagCov_eigen(dat_healt,'hemispheres')\n",
    "path_cov_right, path_cov_left = imagCov_eigen(dat_pathologic,'hemispheres')"
   ]
  },
  {
   "cell_type": "code",
   "execution_count": null,
   "metadata": {},
   "outputs": [],
   "source": [
    "heat_cov_left.shape"
   ]
  },
  {
   "cell_type": "code",
   "execution_count": null,
   "metadata": {},
   "outputs": [],
   "source": [
    "# Valores singulares\n",
    "_,s_h_right,_ = np.linalg.svd(heat_cov_right)\n",
    "_,s_h_left,_ = np.linalg.svd(heat_cov_left)\n",
    "_,s_p_right,_ = np.linalg.svd(path_cov_right)\n",
    "_,s_p_left,_ = np.linalg.svd(path_cov_left)"
   ]
  },
  {
   "cell_type": "code",
   "execution_count": null,
   "metadata": {},
   "outputs": [],
   "source": [
    "comp_healt_rigth = CompNum(s_h_right,0.99)\n",
    "comp_healt_left = CompNum(s_h_left,0.99)\n",
    "comp_patho_right = CompNum(s_p_right,0.99)\n",
    "comp_patho_left = CompNum(s_p_left,0.99)\n",
    "\n",
    "print(\"Healthy Right Components:\", comp_healt_rigth,\n",
    "      \"\\nHealthy Right Components:\", comp_healt_left,\n",
    "     \"\\nPathology Right Components:\", comp_patho_right,\n",
    "     \"\\nPathologic Right Components:\", comp_patho_left)"
   ]
  },
  {
   "cell_type": "code",
   "execution_count": null,
   "metadata": {},
   "outputs": [],
   "source": [
    "n_comp_healt = [comp_healt_rigth,comp_healt_left]\n",
    "heat_pca_right, heat_pca_left = imagPCA_eigen(dat_healt,n_comp_healt,'hemispheres')"
   ]
  },
  {
   "cell_type": "code",
   "execution_count": null,
   "metadata": {},
   "outputs": [],
   "source": [
    "heat_pca_right.components_.shape"
   ]
  },
  {
   "cell_type": "code",
   "execution_count": null,
   "metadata": {},
   "outputs": [],
   "source": [
    "heat_pca_left.components_.shape"
   ]
  },
  {
   "cell_type": "code",
   "execution_count": null,
   "metadata": {},
   "outputs": [],
   "source": [
    "n_comp_patho = [comp_patho_right,comp_patho_left]\n",
    "patho_pca_right, patho_pca_left = imagPCA_eigen(dat_pathologic,n_comp_patho)"
   ]
  },
  {
   "cell_type": "code",
   "execution_count": null,
   "metadata": {},
   "outputs": [],
   "source": [
    "patho_pca_right.components_.shape"
   ]
  },
  {
   "cell_type": "code",
   "execution_count": null,
   "metadata": {},
   "outputs": [],
   "source": [
    "patho_pca_left.components_.shape"
   ]
  },
  {
   "cell_type": "markdown",
   "metadata": {},
   "source": [
    "## Data projection"
   ]
  },
  {
   "cell_type": "code",
   "execution_count": null,
   "metadata": {},
   "outputs": [],
   "source": [
    "healt_right_projected = heat_pca_right.transform(dat_healt['right'])\n",
    "healt_left_projected = heat_pca_left.transform(dat_healt['left'])\n",
    "patho_right_projected = patho_pca_right.transform(dat_pathologic['right'])\n",
    "patho_left_projected = patho_pca_left.transform(dat_pathologic['left'])"
   ]
  },
  {
   "cell_type": "code",
   "execution_count": null,
   "metadata": {},
   "outputs": [],
   "source": [
    "print(\"Healthy Right Projected Shape:\", healt_right_projected.shape,\n",
    "      \"\\nHealthy Left Projected Shape:\", healt_left_projected.shape,\n",
    "     \"\\nPathology Right Projected Shape:\", patho_right_projected.shape,\n",
    "     \"\\nPathologic Left Projected Shape:\", patho_left_projected.shape)"
   ]
  },
  {
   "cell_type": "markdown",
   "metadata": {},
   "source": [
    "## Hemispheres comparison"
   ]
  },
  {
   "cell_type": "code",
   "execution_count": null,
   "metadata": {},
   "outputs": [],
   "source": [
    "_ ,_, diff_healthy = hemisCOmpar(healt_right_projected,healt_left_projected,2)\n",
    "_ ,_, diff_pathology = hemisCOmpar(patho_right_projected,patho_left_projected,2)"
   ]
  },
  {
   "cell_type": "code",
   "execution_count": null,
   "metadata": {},
   "outputs": [],
   "source": [
    "np.quantile(diff_healthy,[0.025,0.05,0.25,0.5,0.75,0.95,0.975])"
   ]
  },
  {
   "cell_type": "code",
   "execution_count": null,
   "metadata": {},
   "outputs": [],
   "source": [
    "np.quantile(diff_pathology,[0.025,0.05,0.25,0.5,0.75,0.95,0.975])"
   ]
  },
  {
   "cell_type": "code",
   "execution_count": null,
   "metadata": {},
   "outputs": [],
   "source": [
    "# plot of 2 variables\n",
    "p1=sns.kdeplot(diff_healthy, shade=True, color=\"r\")\n",
    "p1=sns.kdeplot(diff_pathology, shade=True, color=\"b\")"
   ]
  },
  {
   "cell_type": "markdown",
   "metadata": {},
   "source": [
    "# Eigenfunction all"
   ]
  },
  {
   "cell_type": "code",
   "execution_count": null,
   "metadata": {},
   "outputs": [],
   "source": [
    "path_health=df_labels[df_labels.label==1].path\n",
    "path_pathologic=df_labels[df_labels.label==0].path\n",
    "space = 'all'\n",
    "\n",
    "if(space=='hemispheres'):\n",
    "    nx=45;ny=109;nz=91\n",
    "elif(space=='all'):\n",
    "    nx=91;ny=109;nz=91\n",
    "\n",
    "dat_healt=getDataFromDirectory_NCC_eigen(path_health.values,space,nx,ny,nz,'mean')\n",
    "dat_pathologic=getDataFromDirectory_NCC_eigen(path_pathologic.values,space,nx,ny,nz,'mean')"
   ]
  },
  {
   "cell_type": "code",
   "execution_count": null,
   "metadata": {},
   "outputs": [],
   "source": [
    "print('health neuroimaging: ',len(dat_healt['data']))\n",
    "print('pathologic neuroimaging: ',len(dat_pathologic['data']))"
   ]
  },
  {
   "cell_type": "code",
   "execution_count": null,
   "metadata": {},
   "outputs": [],
   "source": [
    "heat_cov = imagCov_eigen(dat_healt,space='all')\n",
    "path_cov = imagCov_eigen(dat_pathologic,space='all')"
   ]
  },
  {
   "cell_type": "code",
   "execution_count": null,
   "metadata": {},
   "outputs": [],
   "source": [
    "# Valores singulares\n",
    "_,s_h,_ = np.linalg.svd(heat_cov)\n",
    "_,s_p,_ = np.linalg.svd(path_cov)"
   ]
  },
  {
   "cell_type": "code",
   "execution_count": null,
   "metadata": {},
   "outputs": [],
   "source": [
    "comp_healt = CompNum(s_h,0.99)\n",
    "comp_patho = CompNum(s_p,0.99)\n",
    "\n",
    "print(\"Healthy Components:\", comp_healt,\n",
    "     \"\\nPathology Components:\", comp_patho)"
   ]
  },
  {
   "cell_type": "code",
   "execution_count": null,
   "metadata": {},
   "outputs": [],
   "source": [
    "# selelct the greather componentes numbers\n",
    "n_comp = max(comp_healt,comp_patho)\n",
    "n_comp = [n_comp]\n",
    "n_comp"
   ]
  },
  {
   "cell_type": "code",
   "execution_count": null,
   "metadata": {},
   "outputs": [],
   "source": [
    "heat_pca = imagPCA_eigen(dat_healt,n_comp,'all')"
   ]
  },
  {
   "cell_type": "code",
   "execution_count": null,
   "metadata": {},
   "outputs": [],
   "source": [
    "heat_pca.components_.shape"
   ]
  },
  {
   "cell_type": "code",
   "execution_count": null,
   "metadata": {},
   "outputs": [],
   "source": [
    "patho_pca = imagPCA_eigen(dat_pathologic,n_comp,'all')"
   ]
  },
  {
   "cell_type": "code",
   "execution_count": null,
   "metadata": {},
   "outputs": [],
   "source": [
    "patho_pca.components_.shape"
   ]
  },
  {
   "cell_type": "markdown",
   "metadata": {},
   "source": [
    "# Data projection"
   ]
  },
  {
   "cell_type": "markdown",
   "metadata": {},
   "source": [
    "### Projection pathologic on helthy space"
   ]
  },
  {
   "cell_type": "code",
   "execution_count": null,
   "metadata": {},
   "outputs": [],
   "source": [
    "healtONhealt = heat_pca.transform(dat_healt['data'])\n",
    "patholONhealt = heat_pca.transform(dat_pathologic['data'])"
   ]
  },
  {
   "cell_type": "code",
   "execution_count": null,
   "metadata": {},
   "outputs": [],
   "source": [
    "print(\"Healthy Projected Shape:\", healtONhealt.shape,\n",
    "     \"\\nPathology Projected Shape:\", patholONhealt.shape)"
   ]
  },
  {
   "cell_type": "markdown",
   "metadata": {},
   "source": [
    "### Projection healthy on pathologic space"
   ]
  },
  {
   "cell_type": "code",
   "execution_count": null,
   "metadata": {},
   "outputs": [],
   "source": [
    "patholONpathol = patho_pca.transform(dat_pathologic['data'])\n",
    "healtONpathol = patho_pca.transform(dat_healt['data'])"
   ]
  },
  {
   "cell_type": "code",
   "execution_count": null,
   "metadata": {},
   "outputs": [],
   "source": [
    "print(\"Healthy Projected Shape:\", patholONpathol.shape,\n",
    "     \"\\nPathology Projected Shape:\", healtONpathol.shape)"
   ]
  },
  {
   "cell_type": "markdown",
   "metadata": {},
   "source": [
    "## Models 1 : with pathologic on helathy space"
   ]
  },
  {
   "cell_type": "code",
   "execution_count": null,
   "metadata": {},
   "outputs": [],
   "source": [
    "h = np.zeros(healtONhealt.shape[0])\n",
    "p = np.ones(patholONhealt.shape[0])\n",
    "x = np.concatenate((healtONhealt,patholONhealt),axis=0)\n",
    "y = np.concatenate((h,p),axis=0)\n",
    "\n",
    "df = pd.DataFrame(x)\n",
    "df['y'] = y"
   ]
  },
  {
   "cell_type": "code",
   "execution_count": null,
   "metadata": {},
   "outputs": [],
   "source": [
    "df.shape"
   ]
  },
  {
   "cell_type": "code",
   "execution_count": null,
   "metadata": {},
   "outputs": [],
   "source": [
    "X_train, X_test, y_train, y_test = train_test_split(x, y, test_size=0.3, stratify=y,random_state=0)"
   ]
  },
  {
   "cell_type": "code",
   "execution_count": null,
   "metadata": {},
   "outputs": [],
   "source": [
    "scaler = StandardScaler().fit(X_train)\n",
    "X_train = scaler.transform(X_train)\n",
    "X_test = scaler.transform(X_test)"
   ]
  },
  {
   "cell_type": "markdown",
   "metadata": {},
   "source": [
    "### Comparison Models and cross validation"
   ]
  },
  {
   "cell_type": "code",
   "execution_count": null,
   "metadata": {},
   "outputs": [],
   "source": [
    "# prepare models\n",
    "models = []\n",
    "models.append(('LR', LogisticRegression()))\n",
    "models.append(('LDA', LinearDiscriminantAnalysis()))\n",
    "models.append(('KNN', KNeighborsClassifier()))\n",
    "models.append(('CART', DecisionTreeClassifier()))\n",
    "models.append(('NB', GaussianNB()))\n",
    "models.append(('SVM', SVC()))\n",
    "models.append(('RF', RandomForestClassifier(n_estimators = 100, random_state = 42)))\n",
    "models.append(('AGB', AdaBoostClassifier(n_estimators=100, random_state=42)))\n",
    "models.append(('SGB', GradientBoostingClassifier(n_estimators=100, random_state=42)))\n",
    "\n",
    "# evaluate each model in turn\n",
    "results = []\n",
    "names = []\n",
    "scoring = 'accuracy'\n",
    "for name, model in models:\n",
    "    kfold = KFold(n_splits=10, random_state=2020)\n",
    "    cv_results = cross_val_score(model, X_train, y_train, cv=kfold, scoring=scoring) \n",
    "    results.append(cv_results)\n",
    "    names.append(name)\n",
    "    msg = \"%s: %f (%f)\" % (name, cv_results.mean(), cv_results.std()) \n",
    "    print(msg)"
   ]
  },
  {
   "cell_type": "code",
   "execution_count": null,
   "metadata": {},
   "outputs": [],
   "source": [
    "fig = plt.figure(figsize=(10, 5)) \n",
    "#fig.suptitle('Algorithm Comparison') \n",
    "ax = fig.add_subplot(111) \n",
    "plt.boxplot(results) \n",
    "ax.set_xticklabels(names)\n",
    "ax.set(xlabel='Model', ylabel='Accuracy')\n",
    "plt.show()"
   ]
  },
  {
   "cell_type": "markdown",
   "metadata": {},
   "source": [
    "### Logistics"
   ]
  },
  {
   "cell_type": "code",
   "execution_count": null,
   "metadata": {},
   "outputs": [],
   "source": [
    "classifier = LogisticRegression(solver='newton-cg')\n",
    "classifier.fit(X_train, y_train)"
   ]
  },
  {
   "cell_type": "code",
   "execution_count": null,
   "metadata": {},
   "outputs": [],
   "source": [
    "y_test_pred = classifier.predict(X_test)"
   ]
  },
  {
   "cell_type": "code",
   "execution_count": null,
   "metadata": {},
   "outputs": [],
   "source": [
    "accuracy_score(y_true=y_test, y_pred=y_test_pred)"
   ]
  },
  {
   "cell_type": "code",
   "execution_count": null,
   "metadata": {},
   "outputs": [],
   "source": [
    "print(classification_report(y_true=y_test, y_pred=y_test_pred, target_names=[\"Helthy\", \"Parhologic\"]))"
   ]
  },
  {
   "cell_type": "code",
   "execution_count": null,
   "metadata": {},
   "outputs": [],
   "source": [
    "plt.figure()\n",
    "plt.title(\"Heatmap\")\n",
    "classes_dict = {'Actual': y_test.tolist(), 'Predicted': y_test_pred.tolist()}\n",
    "classes_df = pd.DataFrame(classes_dict, columns=[\"Actual\", \"Predicted\"])\n",
    "conf_matrix = pd.crosstab(classes_df['Actual'], classes_df['Predicted'], rownames=['Actual'], colnames=['Predicted'])\n",
    "ax=sns.heatmap(conf_matrix, annot=True,cmap='Blues', fmt='.0f');\n",
    "ax.invert_yaxis()\n",
    "ax.invert_xaxis()"
   ]
  },
  {
   "cell_type": "markdown",
   "metadata": {},
   "source": [
    "### Random Forest"
   ]
  },
  {
   "cell_type": "code",
   "execution_count": null,
   "metadata": {},
   "outputs": [],
   "source": [
    "from sklearn.ensemble import RandomForestClassifier\n",
    "\n",
    "# Instantiate model with 100 decision trees\n",
    "rf = RandomForestClassifier(n_estimators = 100, random_state = 42)\n",
    "# Train the model on training data\n",
    "rf.fit(X_train, y_train)"
   ]
  },
  {
   "cell_type": "code",
   "execution_count": null,
   "metadata": {},
   "outputs": [],
   "source": [
    "y_test_pred = rf.predict(X_test)"
   ]
  },
  {
   "cell_type": "code",
   "execution_count": null,
   "metadata": {},
   "outputs": [],
   "source": [
    "accuracy_score(y_true=y_test, y_pred=y_test_pred)"
   ]
  },
  {
   "cell_type": "code",
   "execution_count": null,
   "metadata": {},
   "outputs": [],
   "source": [
    "print(classification_report(y_true=y_test, y_pred=y_test_pred, target_names=[\"Helthy\", \"Parhologic\"]))"
   ]
  },
  {
   "cell_type": "code",
   "execution_count": null,
   "metadata": {},
   "outputs": [],
   "source": [
    "plt.figure()\n",
    "plt.title(\"Heatmap\")\n",
    "classes_dict = {'Actual': y_test.tolist(), 'Predicted': y_test_pred.tolist()}\n",
    "classes_df = pd.DataFrame(classes_dict, columns=[\"Actual\", \"Predicted\"])\n",
    "conf_matrix = pd.crosstab(classes_df['Actual'], classes_df['Predicted'], rownames=['Actual'], colnames=['Predicted'])\n",
    "ax=sns.heatmap(conf_matrix, annot=True,cmap='Blues', fmt='.0f');\n",
    "ax.invert_yaxis()\n",
    "ax.invert_xaxis()"
   ]
  },
  {
   "cell_type": "markdown",
   "metadata": {},
   "source": [
    "### Suport Vectro Machine"
   ]
  },
  {
   "cell_type": "code",
   "execution_count": null,
   "metadata": {},
   "outputs": [],
   "source": [
    "svm = SVC()\n",
    "svm.fit(X_train, y_train)"
   ]
  },
  {
   "cell_type": "code",
   "execution_count": null,
   "metadata": {},
   "outputs": [],
   "source": [
    "y_test_pred = svm.predict(X_test)"
   ]
  },
  {
   "cell_type": "code",
   "execution_count": null,
   "metadata": {},
   "outputs": [],
   "source": [
    "accuracy_score(y_true=y_test, y_pred=y_test_pred)"
   ]
  },
  {
   "cell_type": "code",
   "execution_count": null,
   "metadata": {},
   "outputs": [],
   "source": [
    "print(classification_report(y_true=y_test, y_pred=y_test_pred, target_names=[\"Helthy\", \"Parhologic\"]))"
   ]
  },
  {
   "cell_type": "code",
   "execution_count": null,
   "metadata": {},
   "outputs": [],
   "source": [
    "plt.figure()\n",
    "plt.title(\"Heatmap\")\n",
    "classes_dict = {'Actual': y_test.tolist(), 'Predicted': y_test_pred.tolist()}\n",
    "classes_df = pd.DataFrame(classes_dict, columns=[\"Actual\", \"Predicted\"])\n",
    "conf_matrix = pd.crosstab(classes_df['Actual'], classes_df['Predicted'], rownames=['Actual'], colnames=['Predicted'])\n",
    "ax=sns.heatmap(conf_matrix, annot=True,cmap='Blues', fmt='.0f');\n",
    "ax.invert_yaxis()\n",
    "ax.invert_xaxis()"
   ]
  },
  {
   "cell_type": "code",
   "execution_count": null,
   "metadata": {},
   "outputs": [],
   "source": [
    "fpr, tpr, _ = roc_curve(y_test, y_test_pred)\n",
    "roc_auc = auc(fpr, tpr)"
   ]
  },
  {
   "cell_type": "code",
   "execution_count": null,
   "metadata": {},
   "outputs": [],
   "source": [
    "plt.figure(1,figsize=(10, 5))\n",
    "#plt.xlim(0, 0.2)\n",
    "#plt.ylim(0.8, 1)\n",
    "plt.plot([0, 1], [0, 1], color='navy', lw=2, linestyle='--')\n",
    "plt.plot(fpr, tpr, color='darkorange',\n",
    "         lw=2,label='ROC curve (area = %0.2f)' % roc_auc)\n",
    "plt.xlabel('False positive rate')\n",
    "plt.ylabel('True positive rate')\n",
    "plt.title('ROC curve')\n",
    "plt.legend(loc='best')\n",
    "plt.show()"
   ]
  },
  {
   "cell_type": "markdown",
   "metadata": {},
   "source": [
    "### Gradient Boosting"
   ]
  },
  {
   "cell_type": "code",
   "execution_count": null,
   "metadata": {},
   "outputs": [],
   "source": [
    "GB = AdaBoostClassifier(n_estimators=100, random_state=42)\n",
    "GB.fit(X_train, y_train)"
   ]
  },
  {
   "cell_type": "code",
   "execution_count": null,
   "metadata": {},
   "outputs": [],
   "source": [
    "y_test_pred = GB.predict(X_test)"
   ]
  },
  {
   "cell_type": "code",
   "execution_count": null,
   "metadata": {},
   "outputs": [],
   "source": [
    "accuracy_score(y_true=y_test, y_pred=y_test_pred)"
   ]
  },
  {
   "cell_type": "code",
   "execution_count": null,
   "metadata": {},
   "outputs": [],
   "source": [
    "print(classification_report(y_true=y_test, y_pred=y_test_pred, target_names=[\"Helthy\", \"Parhologic\"]))"
   ]
  },
  {
   "cell_type": "code",
   "execution_count": null,
   "metadata": {},
   "outputs": [],
   "source": [
    "plt.figure()\n",
    "plt.title(\"Heatmap\")\n",
    "classes_dict = {'Actual': y_test.tolist(), 'Predicted': y_test_pred.tolist()}\n",
    "classes_df = pd.DataFrame(classes_dict, columns=[\"Actual\", \"Predicted\"])\n",
    "conf_matrix = pd.crosstab(classes_df['Actual'], classes_df['Predicted'], rownames=['Actual'], colnames=['Predicted'])\n",
    "ax=sns.heatmap(conf_matrix, annot=True,cmap='Blues', fmt='.0f');\n",
    "ax.invert_yaxis()\n",
    "ax.invert_xaxis()"
   ]
  },
  {
   "cell_type": "markdown",
   "metadata": {},
   "source": [
    "### Stocastic Gradient Boosting"
   ]
  },
  {
   "cell_type": "code",
   "execution_count": null,
   "metadata": {},
   "outputs": [],
   "source": [
    "SGB = GradientBoostingClassifier(n_estimators=100, random_state=42)\n",
    "SGB.fit(X_train, y_train)"
   ]
  },
  {
   "cell_type": "code",
   "execution_count": null,
   "metadata": {},
   "outputs": [],
   "source": [
    "y_test_pred = SGB.predict(X_test)"
   ]
  },
  {
   "cell_type": "code",
   "execution_count": null,
   "metadata": {},
   "outputs": [],
   "source": [
    "accuracy_score(y_true=y_test, y_pred=y_test_pred)"
   ]
  },
  {
   "cell_type": "code",
   "execution_count": null,
   "metadata": {},
   "outputs": [],
   "source": [
    "print(classification_report(y_true=y_test, y_pred=y_test_pred, target_names=[\"Helthy\", \"Parhologic\"]))"
   ]
  },
  {
   "cell_type": "code",
   "execution_count": null,
   "metadata": {},
   "outputs": [],
   "source": [
    "plt.figure()\n",
    "plt.title(\"Heatmap\")\n",
    "classes_dict = {'Actual': y_test.tolist(), 'Predicted': y_test_pred.tolist()}\n",
    "classes_df = pd.DataFrame(classes_dict, columns=[\"Actual\", \"Predicted\"])\n",
    "conf_matrix = pd.crosstab(classes_df['Actual'], classes_df['Predicted'], rownames=['Actual'], colnames=['Predicted'])\n",
    "ax=sns.heatmap(conf_matrix, annot=True,cmap='Blues', fmt='.0f');\n",
    "ax.invert_yaxis()\n",
    "ax.invert_xaxis()"
   ]
  },
  {
   "cell_type": "markdown",
   "metadata": {},
   "source": [
    "## Voting Ensemble (SVM and SGB)"
   ]
  },
  {
   "cell_type": "code",
   "execution_count": null,
   "metadata": {},
   "outputs": [],
   "source": [
    "kfold = KFold(n_splits=10, random_state=2020)\n",
    "# create the sub models\n",
    "estimators = []\n",
    "model1 = SVC()\n",
    "estimators.append(('SVC', model1))\n",
    "model2 = GradientBoostingClassifier(n_estimators=100, random_state=42)\n",
    "estimators.append(('SGB', model2))\n",
    "\n",
    "# create the ensemble model\n",
    "ensemble = VotingClassifier(estimators)\n",
    "results = cross_val_score(ensemble, X_train, y_train, cv=kfold)\n",
    "print(results.mean())"
   ]
  },
  {
   "cell_type": "markdown",
   "metadata": {},
   "source": [
    "## Models 2 : with healthy on pathologic space"
   ]
  },
  {
   "cell_type": "code",
   "execution_count": null,
   "metadata": {},
   "outputs": [],
   "source": [
    "h1 = np.zeros(healtONhealt.shape[0])\n",
    "p1 = np.ones(patholONhealt.shape[0])\n",
    "x1 = np.concatenate((patholONpathol,healtONpathol),axis=0)\n",
    "y1 = np.concatenate((h,p),axis=0)\n",
    "\n",
    "df1 = pd.DataFrame(x1)\n",
    "df1['y'] = y1"
   ]
  },
  {
   "cell_type": "code",
   "execution_count": null,
   "metadata": {},
   "outputs": [],
   "source": [
    "X_train1, X_test1, y_train1, y_test1 = train_test_split(x1, y1, test_size=0.3, stratify=y1,random_state=0)"
   ]
  },
  {
   "cell_type": "code",
   "execution_count": null,
   "metadata": {},
   "outputs": [],
   "source": [
    "scaler1 = StandardScaler().fit(X_train1)\n",
    "X_train1 = scaler1.transform(X_train1)\n",
    "X_test1 = scaler1.transform(X_test1)"
   ]
  },
  {
   "cell_type": "code",
   "execution_count": null,
   "metadata": {},
   "outputs": [],
   "source": [
    "# prepare models\n",
    "models = []\n",
    "models.append(('LR', LogisticRegression()))\n",
    "models.append(('LDA', LinearDiscriminantAnalysis()))\n",
    "models.append(('KNN', KNeighborsClassifier()))\n",
    "models.append(('CART', DecisionTreeClassifier()))\n",
    "models.append(('NB', GaussianNB()))\n",
    "models.append(('SVM', SVC()))\n",
    "models.append(('RF', RandomForestClassifier(n_estimators = 100, random_state = 42)))\n",
    "models.append(('AGB', AdaBoostClassifier(n_estimators=100, random_state=42)))\n",
    "models.append(('SGB', GradientBoostingClassifier(n_estimators=100, random_state=42)))\n",
    "\n",
    "# evaluate each model in turn\n",
    "results = []\n",
    "names = []\n",
    "scoring = 'accuracy'\n",
    "for name, model in models:\n",
    "    kfold = KFold(n_splits=10, random_state=2020)\n",
    "    cv_results = cross_val_score(model, X_train1, y_train1, cv=kfold, scoring=scoring) \n",
    "    results.append(cv_results)\n",
    "    names.append(name)\n",
    "    msg = \"%s: %f (%f)\" % (name, cv_results.mean(), cv_results.std()) \n",
    "    print(msg)"
   ]
  },
  {
   "cell_type": "code",
   "execution_count": null,
   "metadata": {},
   "outputs": [],
   "source": [
    "# boxplot algorithm comparison\n",
    "fig = plt.figure() \n",
    "fig.suptitle('Algorithm Comparison') \n",
    "ax = fig.add_subplot(111) \n",
    "plt.boxplot(results) \n",
    "ax.set_xticklabels(names) \n",
    "plt.show()"
   ]
  },
  {
   "cell_type": "markdown",
   "metadata": {},
   "source": [
    "**conclusion:** The projection on pathologic space is worse by model prediction"
   ]
  },
  {
   "cell_type": "markdown",
   "metadata": {},
   "source": [
    "# Distribution of projection on helthy space"
   ]
  },
  {
   "cell_type": "code",
   "execution_count": null,
   "metadata": {},
   "outputs": [],
   "source": [
    "def normDataProjected(data,order):\n",
    "    norm = np.linalg.norm(data,axis=1,ord=order)\n",
    "    return(norm)"
   ]
  },
  {
   "cell_type": "code",
   "execution_count": null,
   "metadata": {},
   "outputs": [],
   "source": [
    "norm_L1_heathy = normDataProjected(healtONhealt,order=1)\n",
    "norm_L1_pathol = normDataProjected(patholONhealt,order=1)\n",
    "\n",
    "norm_L2_heathy = normDataProjected(healtONhealt,order=2)\n",
    "norm_L2_pathol = normDataProjected(patholONhealt,order=2)"
   ]
  },
  {
   "cell_type": "code",
   "execution_count": null,
   "metadata": {},
   "outputs": [],
   "source": [
    "sns.kdeplot(norm_L1_heathy, shade=True, color=\"r\")\n",
    "sns.kdeplot(norm_L1_pathol, shade=True, color=\"b\")"
   ]
  },
  {
   "cell_type": "code",
   "execution_count": null,
   "metadata": {},
   "outputs": [],
   "source": [
    "sns.kdeplot(norm_L2_heathy, shade=True, color=\"r\")\n",
    "sns.kdeplot(norm_L2_pathol, shade=True, color=\"b\")"
   ]
  },
  {
   "cell_type": "markdown",
   "metadata": {},
   "source": [
    "**conclusion:** The distance of helthy images to helthy space is less that pathologic distance"
   ]
  },
  {
   "cell_type": "markdown",
   "metadata": {},
   "source": [
    "# Save best model"
   ]
  },
  {
   "cell_type": "code",
   "execution_count": null,
   "metadata": {},
   "outputs": [],
   "source": [
    "from sklearn.externals.joblib import dump\n",
    "from sklearn.externals.joblib import load\n",
    "\n",
    "# save the model to disk\n",
    "filename = 'final_models/bestModel_SVM_NCC.sav' \n",
    "dump(svm, filename)"
   ]
  },
  {
   "cell_type": "code",
   "execution_count": null,
   "metadata": {},
   "outputs": [],
   "source": []
  },
  {
   "cell_type": "code",
   "execution_count": null,
   "metadata": {},
   "outputs": [],
   "source": [
    "# Save healty\n",
    "dumped_healty = json.dumps(dat_healt['center_image'], cls=NumpyEncoder) \n",
    "dumped_pathologic = json.dumps(dat_pathologic['center_image'], cls=NumpyEncoder)\n",
    "\n",
    "with open('centerImage_healty.json', 'w') as f:\n",
    "    json.dump(dumped_healty, f) # , sort_keys=False, indent=4\n",
    "    \n",
    "with open('centerImage_pathologic.json', 'w') as f:\n",
    "    json.dump(dumped_pathologic, f) # , sort_keys=False, indent=4"
   ]
  },
  {
   "cell_type": "code",
   "execution_count": null,
   "metadata": {},
   "outputs": [],
   "source": [
    "import pickle as pk\n",
    "pk.dump(heat_pca, open(\"Eigenfaces_healty.pkl\",\"wb\"))"
   ]
  },
  {
   "cell_type": "markdown",
   "metadata": {},
   "source": [
    "# Load Components and Model"
   ]
  },
  {
   "cell_type": "code",
   "execution_count": null,
   "metadata": {},
   "outputs": [],
   "source": [
    "pca_reload = pk.load(open(\"Eigenfaces_healty.pkl\",'rb'))"
   ]
  },
  {
   "cell_type": "code",
   "execution_count": null,
   "metadata": {},
   "outputs": [],
   "source": [
    "pca_reload.components_.shape"
   ]
  },
  {
   "cell_type": "code",
   "execution_count": null,
   "metadata": {},
   "outputs": [],
   "source": [
    "# load the model from disk\n",
    "loaded_model = load(filename)\n",
    "result = loaded_model.score(X_test, y_test) \n",
    "print(result)"
   ]
  },
  {
   "cell_type": "code",
   "execution_count": null,
   "metadata": {},
   "outputs": [],
   "source": []
  }
 ],
 "metadata": {
  "kernelspec": {
   "display_name": "Python 3",
   "language": "python",
   "name": "python3"
  },
  "language_info": {
   "codemirror_mode": {
    "name": "ipython",
    "version": 3
   },
   "file_extension": ".py",
   "mimetype": "text/x-python",
   "name": "python",
   "nbconvert_exporter": "python",
   "pygments_lexer": "ipython3",
   "version": "3.7.2"
  }
 },
 "nbformat": 4,
 "nbformat_minor": 2
}
