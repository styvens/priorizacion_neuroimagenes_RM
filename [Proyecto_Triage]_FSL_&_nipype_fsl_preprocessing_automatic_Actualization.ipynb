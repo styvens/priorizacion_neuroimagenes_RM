{
 "cells": [
  {
   "cell_type": "markdown",
   "metadata": {
    "colab_type": "text",
    "id": "WwPob3C93vFN"
   },
   "source": [
    " <h1><center>RM Triage</center></h1>"
   ]
  },
  {
   "cell_type": "markdown",
   "metadata": {},
   "source": [
    "### DICOM to NIFTI conversion \n",
    "#### .json and .nii files are saved in the same folder the dcm images are located. directorio_general is a folder containing another folder with the dcm images on it. For more details clic on the link: https://drive.google.com/open?id=1aIGAJX7nv1ECq48PBeRdSWPyuclUyXl5"
   ]
  },
  {
   "cell_type": "code",
   "execution_count": 2,
   "metadata": {},
   "outputs": [
    {
     "name": "stdout",
     "output_type": "stream",
     "text": [
      "200207-11:31:40,267 nipype.utils INFO:\n",
      "\t Running nipype version 1.3.1 (latest: 1.4.1)\n",
      "200207-11:31:40,520 nipype.interface INFO:\n",
      "\t stdout 2020-02-07T11:31:40.520000:Chris Rorden's dcm2niiX version v1.0.20190902  (JP2:OpenJPEG) GCC8.3.0 (64-bit Linux)\n",
      "200207-11:31:40,521 nipype.interface INFO:\n",
      "\t stdout 2020-02-07T11:31:40.520000:Found 26 DICOM file(s)\n",
      "200207-11:31:40,522 nipype.interface INFO:\n",
      "\t stdout 2020-02-07T11:31:40.520000:Philips Scaling Values RS:RI:SS = 9.08425:0:0.00576952 (see PMC3998685)\n",
      "200207-11:31:40,522 nipype.interface INFO:\n",
      "\t stdout 2020-02-07T11:31:40.520000:Convert 26 DICOM as /home/acpuche/Documentos/scripts/Test_Triage_Project/Flair1/Flair1_eT2_FL_AX_20151006165738_702 (288x288x26x1)\n",
      "200207-11:31:40,615 nipype.interface INFO:\n",
      "\t stdout 2020-02-07T11:31:40.615415:Compress: \"/usr/bin/pigz\" -b 960 -n -f -6 \"/home/acpuche/Documentos/scripts/Test_Triage_Project/Flair1/Flair1_eT2_FL_AX_20151006165738_702.nii\"\n",
      "200207-11:31:40,616 nipype.interface INFO:\n",
      "\t stdout 2020-02-07T11:31:40.615415:Conversion required 0.109689 seconds (0.017535 for core code).\n",
      "200207-11:31:40,680 nipype.interface INFO:\n",
      "\t stdout 2020-02-07T11:31:40.680334:Chris Rorden's dcm2niiX version v1.0.20190902  (JP2:OpenJPEG) GCC8.3.0 (64-bit Linux)\n",
      "200207-11:31:40,682 nipype.interface INFO:\n",
      "\t stdout 2020-02-07T11:31:40.680334:Found 22 DICOM file(s)\n",
      "200207-11:31:40,682 nipype.interface INFO:\n",
      "\t stdout 2020-02-07T11:31:40.680334:Philips Scaling Values RS:RI:SS = 11.3145:0:0.00918606 (see PMC3998685)\n",
      "200207-11:31:40,683 nipype.interface INFO:\n",
      "\t stdout 2020-02-07T11:31:40.680334:Convert 22 DICOM as /home/acpuche/Documentos/scripts/Test_Triage_Project/Flair2/Flair2_eFL_SAG_20150912072751_302 (288x288x22x1)\n",
      "200207-11:31:40,752 nipype.interface INFO:\n",
      "\t stdout 2020-02-07T11:31:40.752676:Compress: \"/usr/bin/pigz\" -b 960 -n -f -6 \"/home/acpuche/Documentos/scripts/Test_Triage_Project/Flair2/Flair2_eFL_SAG_20150912072751_302.nii\"\n",
      "200207-11:31:40,753 nipype.interface INFO:\n",
      "\t stdout 2020-02-07T11:31:40.752676:Conversion required 0.087120 seconds (0.019370 for core code).\n"
     ]
    }
   ],
   "source": [
    "import os\n",
    "from nipype.interfaces.dcm2nii import Dcm2niix\n",
    "\n",
    "directorio_general='/home/acpuche/Documentos/scripts/Test_Triage_Project/'\n",
    "folders=os.listdir(directorio_general)\n",
    "for folder in folders:\n",
    "    converter = Dcm2niix()\n",
    "    converter.inputs.source_dir = os.path.abspath(directorio_general+'/'+folder)\n",
    "    converter.inputs.output_dir = os.path.abspath(directorio_general+'/'+folder)\n",
    "    converter.inputs.single_file = True\n",
    "    converter.cmdline\n",
    "    temp = converter.run()"
   ]
  },
  {
   "cell_type": "code",
   "execution_count": 1,
   "metadata": {
    "scrolled": true
   },
   "outputs": [
    {
     "name": "stdout",
     "output_type": "stream",
     "text": [
      "Warning: File exists, will overwrite /home/acpuche/Documentos/scripts/Test_Triage_Project/Flair/eT2_FL_AX.nii\n",
      "Warning: File exists, will overwrite /home/acpuche/Documentos/scripts/Test_Triage_Project/Flair/eT2_FL_AX_info.txt\n",
      "WARNING:: Flipping Left/Right orientation (as det < 0)\n",
      "WARNING:: Flipping Left/Right orientation (as det < 0)\n"
     ]
    },
    {
     "name": "stderr",
     "output_type": "stream",
     "text": [
      "11:25:35: Error: Warning: File exists, will overwrite /home/acpuche/Documentos/scripts/Test_Triage_Project/Flair/eT2_FL_AX.nii\n",
      "11:25:35: Error: Warning: File exists, will overwrite /home/acpuche/Documentos/scripts/Test_Triage_Project/Flair/eT2_FL_AX_info.txt\n",
      "\n",
      "WARNING:: Inconsistent orientations for individual images in pipeline!\n",
      "          Will use voxel-based orientation which is probably incorrect - *PLEASE CHECK*!\n",
      "\n"
     ]
    }
   ],
   "source": [
    "%%bash\n",
    "dcm2nii_path=/Applications/mricro\n",
    "BASEDIR=/home/acpuche/Documentos/scripts/Test_Triage_Project/Flair\n",
    "mcverter -f fsl -d -n  -F +SeriesDescription -o ${BASEDIR} ${BASEDIR}\n",
    "mni_brain=${FSLDIR}/data/standard/MNI152_T1_2mm_brain\n",
    "nii_file=`ls ${BASEDIR}/*.nii`\n",
    "\n",
    "in_dir=`dirname $nii_file`\n",
    "nii_file=`remove_ext $nii_file`\n",
    "\n",
    "#For Flair data without been previously brain extracted\n",
    "bet $nii_file ${nii_file}_brain -R -f 0.5 -g 0 -m\n",
    "nii_file=${nii_file}_brain\n",
    "mask_file=${nii_file}_mask\n",
    "fslmaths $mask_file -eroF $mask_file\n",
    "csf_thr=`fslstats $nii_file -k $mask_file -s`\n",
    "fslmaths $nii_file -mas $mask_file -uthr $csf_thr -dilM -bin ${nii_file}_csf_mask\n",
    "fslmaths $mask_file -mas $mask_file -sub ${nii_file}_csf_mask -bin $mask_file\n",
    "wait\n",
    "\n",
    "#spatial smoothing using a Gauss filter FWHM=2.355 sigma\n",
    "fslmaths $nii_file -s 1.3 $nii_file \n",
    "#Registration to standard space\n",
    "flirt -in $nii_file -ref $mni_brain -out ${nii_file}_mni-2mm -omat ${nii_file}_mni-2mm.mat -bins 256 -cost corratio -searchrx -90 90 -searchry -90 90 -searchrz -90 90 -dof 12  -interp trilinear\n",
    "nii_file2=${nii_file}_mni-2mm\n",
    "# Apply transformation to the mask\n",
    "flirt -in $mask_file -ref $mni_brain -out $mask_file -init ${nii_file}_mni-2mm.mat -applyxfm\n",
    "\n",
    "\n",
    "# Splitting of both hemispheres \n",
    "fslroi ${nii_file2} ${nii_file}_r 0 45 0 -1 0 -1 \n",
    "fslroi ${nii_file2} ${nii_file}_l 45 45 0 -1 0 -1\n",
    "fslroi $mask_file ${mask_file}_r 0 45 0 -1 0 -1\n",
    "fslroi $mask_file ${mask_file}_l 45 45 0 -1 0 -1\n",
    "fslswapdim ${nii_file}_l -x y z ${nii_file}_l_flipped\n",
    "fslswapdim ${mask_file}_l -x y z ${mask_file}_l_flipped\n",
    "fslmaths ${mask_file}_r -mul ${mask_file}_l_flipped -bin ${mask_file}_no_csf\n",
    "\n"
   ]
  },
  {
   "cell_type": "code",
   "execution_count": null,
   "metadata": {},
   "outputs": [],
   "source": []
  }
 ],
 "metadata": {
  "colab": {
   "collapsed_sections": [],
   "name": "FSL_vs_nipype_fsl_preprocessing.ipynb",
   "provenance": [],
   "toc_visible": true
  },
  "kernelspec": {
   "display_name": "Python 3",
   "language": "python",
   "name": "python3"
  },
  "language_info": {
   "codemirror_mode": {
    "name": "ipython",
    "version": 3
   },
   "file_extension": ".py",
   "mimetype": "text/x-python",
   "name": "python",
   "nbconvert_exporter": "python",
   "pygments_lexer": "ipython3",
   "version": "3.7.4"
  }
 },
 "nbformat": 4,
 "nbformat_minor": 1
}
