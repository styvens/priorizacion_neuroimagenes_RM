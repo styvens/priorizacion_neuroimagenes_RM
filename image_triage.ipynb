{
 "cells": [
  {
   "cell_type": "markdown",
   "metadata": {},
   "source": [
    "# image_processing"
   ]
  },
  {
   "cell_type": "code",
   "execution_count": 25,
   "metadata": {},
   "outputs": [
    {
     "name": "stdout",
     "output_type": "stream",
     "text": [
      "WARNING:: Flipping Left/Right orientation (as det < 0)\n",
      "WARNING:: Flipping Left/Right orientation (as det < 0)\n"
     ]
    },
    {
     "name": "stderr",
     "output_type": "stream",
     "text": [
      "\n",
      "WARNING:: Inconsistent orientations for individual images in pipeline!\n",
      "          Will use voxel-based orientation which is probably incorrect - *PLEASE CHECK*!\n",
      "\n"
     ]
    }
   ],
   "source": [
    "%%bash\n",
    "mni_brain=${FSLDIR}/data/standard/MNI152_T1_2mm_brain\n",
    "#cd /Users/analive/Documents/Servicios_de_Salud/investigacion/brain_AI/imag_proof/Rm_Craneo_Con_Contraste_599672740/nii/\n",
    "nii_file=(/Users/analive/Documents/Servicios_de_Salud/investigacion/brain_AI/imag_proof/Rm_Craneo_Con_Contraste_599672740/nii/Rm_Craneo_Con_Contraste_599672740_FLAIR_SPIR_20190705104540_401.nii.gz)\n",
    "in_dir=`dirname $nii_file`\n",
    "nii_file=`remove_ext $nii_file`\n",
    "\n",
    "#== 1. # brain extracted\n",
    "bet $nii_file ${nii_file}_brain -R -f 0.5 -g 0 -m  # brain extracted\n",
    "nii_file=${nii_file}_brain \n",
    "mask_file=${nii_file}_mask\n",
    "fslmaths $mask_file -eroF $mask_file # Spatial Filtering: Minimum filtering of all voxels\n",
    "csf_thr=`fslstats $nii_file -k $mask_file -s` # mask (k) , use standart deviation (s)\n",
    "fslmaths $nii_file -mas $mask_file -uthr $csf_thr -dilM -bin ${nii_file}_csf_mask # mask, data preparation and binarise\n",
    "fslmaths $mask_file -mas $mask_file -sub ${nii_file}_csf_mask -bin $mask_file # Extract cerebrospinal fluid\n",
    "\n",
    "#=== 2. spatial smoothing using a Gauss filter FWHM=2.355 sigma\n",
    "fslmaths $nii_file -s 1.3 $nii_file \n",
    "\n",
    "#=== Registration to standard space\n",
    "flirt -in $nii_file -ref $mni_brain -out ${nii_file}_mni-2mm -omat ${nii_file}_mni-2mm.mat -bins 256 -cost corratio -searchrx -90 90 -searchry -90 90 -searchrz -90 90 -dof 12  -interp trilinear\n",
    "\n",
    "#=== 3. Apply transformation to the mask\n",
    "flirt -in $mask_file -ref $mni_brain -out $mask_file -init ${nii_file}_mni-2mm.mat -applyxfm\n",
    "nii_file=${nii_file}_mni-2mm\n",
    "\n",
    "\n",
    "#=== 4. Splitting of both hemispheres \n",
    "\n",
    "# Extrae una región de interés (ROI region of interest) de una imagen.\n",
    "fslroi ${nii_file} ${nii_file}_r 0 45 0 -1 0 -1 \n",
    "fslroi ${nii_file} ${nii_file}_l 45 45 0 -1 0 -1\n",
    "fslroi $mask_file ${mask_file}_r 0 45 0 -1 0 -1\n",
    "fslroi $mask_file ${mask_file}_l 45 45 0 -1 0 -1\n",
    "\n",
    "# Flipped\n",
    "fslswapdim ${nii_file}_l -x y z ${nii_file}_l_flipped\n",
    "fslswapdim ${mask_file}_l -x y z ${mask_file}_l_flipped\n",
    "fslmaths ${mask_file}_r -mul ${mask_file}_l_flipped -bin ${mask_file}_no_csf\n"
   ]
  },
  {
   "cell_type": "code",
   "execution_count": null,
   "metadata": {},
   "outputs": [],
   "source": []
  }
 ],
 "metadata": {
  "kernelspec": {
   "display_name": "Python 3",
   "language": "python",
   "name": "python3"
  },
  "language_info": {
   "codemirror_mode": {
    "name": "ipython",
    "version": 3
   },
   "file_extension": ".py",
   "mimetype": "text/x-python",
   "name": "python",
   "nbconvert_exporter": "python",
   "pygments_lexer": "ipython3",
   "version": "3.7.2"
  }
 },
 "nbformat": 4,
 "nbformat_minor": 2
}
