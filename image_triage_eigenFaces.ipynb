{
 "cells": [
  {
   "cell_type": "code",
   "execution_count": null,
   "metadata": {},
   "outputs": [],
   "source": [
    "import sys\n",
    "sys.path.append('../functions/')\n",
    "from imageProcess import *\n",
    "from functionsAndTest import *\n",
    "import numpy as np\n",
    "from nilearn import image\n",
    "from nilearn.image import get_data\n",
    "import matplotlib\n",
    "import matplotlib.pyplot as plt\n",
    "import seaborn as sns\n",
    "from arch.bootstrap import IIDBootstrap\n",
    "from scipy.stats import kurtosis\n",
    "import re\n",
    "import time\n",
    "import json\n",
    "import glob\n",
    "import pandas as pd\n",
    "from sklearn.decomposition import PCA\n",
    "from sklearn.model_selection import train_test_split\n",
    "from sklearn.metrics import accuracy_score, precision_score, classification_report,f1_score,roc_auc_score,recall_score\n",
    "from sklearn.model_selection import KFold\n",
    "from sklearn.model_selection import cross_val_score\n",
    "from sklearn.ensemble import RandomForestClassifier\n",
    "from sklearn.linear_model import LogisticRegression\n",
    "from sklearn.preprocessing import StandardScaler\n",
    "from sklearn.ensemble import GradientBoostingClassifier, AdaBoostClassifier\n",
    "from sklearn.discriminant_analysis import LinearDiscriminantAnalysis\n",
    "from sklearn.tree import DecisionTreeClassifier\n",
    "from sklearn.neighbors import KNeighborsClassifier\n",
    "from sklearn.naive_bayes import GaussianNB\n",
    "from sklearn.svm import SVC\n",
    "from sklearn.ensemble import VotingClassifier\n",
    "from sklearn.metrics import roc_curve,auc"
   ]
  },
  {
   "cell_type": "code",
   "execution_count": null,
   "metadata": {},
   "outputs": [],
   "source": [
    "path= '/dicom/'\n",
    "label_path='with_category.csv'\n",
    "indicative=\"000\"\n",
    "df_labels=pd.read_csv(label_path,sep=';')\n",
    "df_labels['id1']=indicative+df_labels['id'].astype(str)\n",
    "df_labels['path']=path+df_labels['id1']+'/'"
   ]
  },
  {
   "cell_type": "code",
   "execution_count": null,
   "metadata": {},
   "outputs": [],
   "source": [
    "# skipping studies with previous surgeries or artifacts\n",
    "skip = ['00020023096','00020029351','00030026189','00030037155','00030037273','00050009584','00050002822',\n",
    "        '00050004047','00050004076','00050004345','00050004468','00050004755']\n",
    "df_labels=df_labels[~df_labels.id1.isin(skip)]"
   ]
  },
  {
   "cell_type": "markdown",
   "metadata": {},
   "source": [
    "# Get images and collapsing data"
   ]
  },
  {
   "cell_type": "code",
   "execution_count": null,
   "metadata": {},
   "outputs": [],
   "source": [
    "path_health=df_labels[df_labels.label==1].path\n",
    "path_pathologic=df_labels[df_labels.label==0].path\n",
    "nx=45;ny=109;nz=91\n",
    "space = 'mask'\n",
    "dat_healt=getDataFromDirectory(path_health.values,space,nx,ny,nz,'mean')\n",
    "dat_pathologic=getDataFromDirectory(path_pathologic.values,space,nx,ny,nz,'mean')"
   ]
  },
  {
   "cell_type": "code",
   "execution_count": null,
   "metadata": {},
   "outputs": [],
   "source": [
    "print('health neuroimaging: ',len(dat_healt['right']))\n",
    "print('pathologic neuroimaging: ',len(dat_pathologic['right']))"
   ]
  },
  {
   "cell_type": "markdown",
   "metadata": {},
   "source": [
    "# Eigenfances"
   ]
  },
  {
   "cell_type": "code",
   "execution_count": null,
   "metadata": {},
   "outputs": [],
   "source": [
    "heat_cent_right, heat_cent_left = imagCentralTend(dat_healt,'mean')\n",
    "path_cent_right,path_cent_left = imagCentralTend(dat_pathologic,'mean')"
   ]
  },
  {
   "cell_type": "code",
   "execution_count": null,
   "metadata": {},
   "outputs": [],
   "source": [
    "heat_cov_right, heat_cov_left = imagCov(dat_healt)\n",
    "path_cov_right, path_cov_left = imagCov(dat_pathologic)"
   ]
  },
  {
   "cell_type": "code",
   "execution_count": null,
   "metadata": {},
   "outputs": [],
   "source": [
    "heat_cov_left.shape"
   ]
  },
  {
   "cell_type": "code",
   "execution_count": null,
   "metadata": {},
   "outputs": [],
   "source": [
    "# Singular values\n",
    "_,s_h_right,_ = np.linalg.svd(heat_cov_right)\n",
    "_,s_h_left,_ = np.linalg.svd(heat_cov_left)\n",
    "_,s_p_right,_ = np.linalg.svd(path_cov_right)\n",
    "_,s_p_left,_ = np.linalg.svd(path_cov_left)"
   ]
  },
  {
   "cell_type": "code",
   "execution_count": null,
   "metadata": {},
   "outputs": [],
   "source": [
    "comp_healt_rigth = CompNum(s_h_right,0.99)\n",
    "comp_healt_left = CompNum(s_h_left,0.99)\n",
    "comp_patho_right = CompNum(s_p_right,0.99)\n",
    "comp_patho_left = CompNum(s_p_left,0.99)\n",
    "\n",
    "print(\"Healthy right Components:\", comp_healt_rigth,\n",
    "      \"\\nHealthy left Components:\", comp_healt_left,\n",
    "     \"\\nPathology right Components:\", comp_patho_right,\n",
    "     \"\\nPathologic left Components:\", comp_patho_left)"
   ]
  },
  {
   "cell_type": "code",
   "execution_count": null,
   "metadata": {},
   "outputs": [],
   "source": [
    "n_comp_healt = [comp_healt_rigth,comp_healt_left]\n",
    "heat_pca_right, heat_pca_left = imagPCA(dat_healt,n_comp_healt)"
   ]
  },
  {
   "cell_type": "code",
   "execution_count": null,
   "metadata": {},
   "outputs": [],
   "source": [
    "heat_pca_right.components_.shape"
   ]
  },
  {
   "cell_type": "code",
   "execution_count": null,
   "metadata": {},
   "outputs": [],
   "source": [
    "heat_pca_left.components_.shape"
   ]
  },
  {
   "cell_type": "code",
   "execution_count": null,
   "metadata": {},
   "outputs": [],
   "source": [
    "n_comp_patho = [comp_patho_right,comp_patho_left]\n",
    "patho_pca_right, patho_pca_left = imagPCA(dat_pathologic,n_comp_patho)"
   ]
  },
  {
   "cell_type": "code",
   "execution_count": null,
   "metadata": {},
   "outputs": [],
   "source": [
    "patho_pca_right.components_.shape"
   ]
  },
  {
   "cell_type": "code",
   "execution_count": null,
   "metadata": {},
   "outputs": [],
   "source": [
    "patho_pca_left.components_.shape"
   ]
  },
  {
   "cell_type": "markdown",
   "metadata": {},
   "source": [
    "## Data projection"
   ]
  },
  {
   "cell_type": "code",
   "execution_count": null,
   "metadata": {},
   "outputs": [],
   "source": [
    "healt_right_projected = heat_pca_right.transform(dat_healt['right'])\n",
    "healt_left_projected = heat_pca_left.transform(dat_healt['left'])\n",
    "patho_right_projected = patho_pca_right.transform(dat_pathologic['right'])\n",
    "patho_left_projected = patho_pca_left.transform(dat_pathologic['left'])"
   ]
  },
  {
   "cell_type": "code",
   "execution_count": null,
   "metadata": {},
   "outputs": [],
   "source": [
    "print(\"Healthy right Projected Shape:\", healt_right_projected.shape,\n",
    "      \"\\nHealthy left Projected Shape:\", healt_left_projected.shape,\n",
    "     \"\\nPathology right Projected Shape:\", patho_right_projected.shape,\n",
    "     \"\\nPathologic left Projected Shape:\", patho_left_projected.shape)"
   ]
  },
  {
   "cell_type": "markdown",
   "metadata": {},
   "source": [
    "## Hemispheres comparison"
   ]
  },
  {
   "cell_type": "code",
   "execution_count": null,
   "metadata": {},
   "outputs": [],
   "source": [
    "_ ,_, diff_healthy = hemisCOmpar(healt_right_projected,healt_left_projected,2)\n",
    "_ ,_, diff_pathology = hemisCOmpar(patho_right_projected,patho_left_projected,2)"
   ]
  },
  {
   "cell_type": "code",
   "execution_count": null,
   "metadata": {},
   "outputs": [],
   "source": [
    "f, (ax1) = plt.subplots(1, 1,figsize=(10, 5))\n",
    "sns.kdeplot(diff_healthy, ax=ax1, label=\"Healthy\", shade=True, color=\"b\")\n",
    "sns.kdeplot(diff_pathology, ax=ax1, label=\"Pathologic\", shade=True, color=\"r\")\n",
    "ax1.set(xlabel='Distance difference', ylabel='Count')\n",
    "plt.show()"
   ]
  },
  {
   "cell_type": "markdown",
   "metadata": {},
   "source": [
    "# Model 1"
   ]
  },
  {
   "cell_type": "code",
   "execution_count": null,
   "metadata": {},
   "outputs": [],
   "source": [
    "h = np.zeros(len(diff_healthy))\n",
    "p = np.ones(len(diff_pathology))\n",
    "x = np.concatenate((diff_healthy,diff_pathology),axis=0)\n",
    "y = np.concatenate((h,p),axis=0)\n",
    "\n",
    "df = pd.DataFrame(y,columns=['y'])\n",
    "df['x'] = x"
   ]
  },
  {
   "cell_type": "code",
   "execution_count": null,
   "metadata": {},
   "outputs": [],
   "source": [
    "X_train, X_test, y_train, y_test = train_test_split(x, y, test_size=0.3, stratify=y)"
   ]
  },
  {
   "cell_type": "code",
   "execution_count": null,
   "metadata": {},
   "outputs": [],
   "source": [
    "# prepare models\n",
    "models = []\n",
    "models.append(('LR', LogisticRegression()))\n",
    "models.append(('LDA', LinearDiscriminantAnalysis()))\n",
    "models.append(('KNN', KNeighborsClassifier()))\n",
    "models.append(('CART', DecisionTreeClassifier()))\n",
    "models.append(('NB', GaussianNB()))\n",
    "models.append(('SVM', SVC()))\n",
    "models.append(('RF', RandomForestClassifier(n_estimators = 100, random_state = 42)))\n",
    "models.append(('AGB', AdaBoostClassifier(n_estimators=100, random_state=42)))\n",
    "models.append(('SGB', GradientBoostingClassifier(n_estimators=100, random_state=42)))\n",
    "\n",
    "# evaluate each model in turn\n",
    "results = []\n",
    "names = []\n",
    "scoring = 'accuracy'\n",
    "for name, model in models:\n",
    "    kfold = KFold(n_splits=10, random_state=2020)\n",
    "    cv_results = cross_val_score(model, X_train.reshape(-1, 1), y_train, cv=kfold, scoring=scoring) \n",
    "    results.append(cv_results)\n",
    "    names.append(name)\n",
    "    msg = \"%s: %f (%f)\" % (name, cv_results.mean(), cv_results.std()) \n",
    "    print(msg)"
   ]
  },
  {
   "cell_type": "code",
   "execution_count": null,
   "metadata": {},
   "outputs": [],
   "source": [
    "fig = plt.figure(figsize=(10, 5)) \n",
    "ax = fig.add_subplot(111) \n",
    "plt.boxplot(results) \n",
    "ax.set_xticklabels(names)\n",
    "ax.set(xlabel='Model', ylabel='Accuracy')\n",
    "plt.show()"
   ]
  },
  {
   "cell_type": "code",
   "execution_count": null,
   "metadata": {},
   "outputs": [],
   "source": [
    "classifier = SVC()\n",
    "classifier.fit(X_train.reshape(-1, 1), y_train)"
   ]
  },
  {
   "cell_type": "code",
   "execution_count": null,
   "metadata": {},
   "outputs": [],
   "source": [
    "y_test_pred = classifier.predict(X_test.reshape(-1, 1))"
   ]
  },
  {
   "cell_type": "code",
   "execution_count": null,
   "metadata": {},
   "outputs": [],
   "source": [
    "accuracy_score(y_true=y_test, y_pred=y_test_pred)"
   ]
  },
  {
   "cell_type": "code",
   "execution_count": null,
   "metadata": {},
   "outputs": [],
   "source": [
    "print(classification_report(y_true=y_test, y_pred=y_test_pred, target_names=[\"Helthy\", \"Parhologic\"]))"
   ]
  },
  {
   "cell_type": "code",
   "execution_count": null,
   "metadata": {},
   "outputs": [],
   "source": [
    "plt.figure()\n",
    "plt.title(\"Heatmap\")\n",
    "classes_dict = {'Actual': y_test.tolist(), 'Predicted': y_test_pred.tolist()}\n",
    "classes_df = pd.DataFrame(classes_dict, columns=[\"Actual\", \"Predicted\"])\n",
    "conf_matrix = pd.crosstab(classes_df['Actual'], classes_df['Predicted'], rownames=['Actual'], colnames=['Predicted'])\n",
    "ax=sns.heatmap(conf_matrix, annot=True,cmap='Blues', fmt='.0f');\n",
    "ax.invert_yaxis()\n",
    "ax.invert_xaxis()"
   ]
  },
  {
   "cell_type": "code",
   "execution_count": null,
   "metadata": {},
   "outputs": [],
   "source": []
  }
 ],
 "metadata": {
  "kernelspec": {
   "display_name": "Python 3",
   "language": "python",
   "name": "python3"
  },
  "language_info": {
   "codemirror_mode": {
    "name": "ipython",
    "version": 3
   },
   "file_extension": ".py",
   "mimetype": "text/x-python",
   "name": "python",
   "nbconvert_exporter": "python",
   "pygments_lexer": "ipython3",
   "version": "3.7.2"
  }
 },
 "nbformat": 4,
 "nbformat_minor": 2
}
