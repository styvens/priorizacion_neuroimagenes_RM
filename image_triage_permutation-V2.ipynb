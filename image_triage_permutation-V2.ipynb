{
 "cells": [
  {
   "cell_type": "markdown",
   "metadata": {},
   "source": [
    "# image_processing"
   ]
  },
  {
   "cell_type": "code",
   "execution_count": null,
   "metadata": {},
   "outputs": [],
   "source": [
    "import numpy as np\n",
    "from nilearn import image\n",
    "from nilearn.image import get_data\n",
    "import matplotlib\n",
    "import matplotlib.pyplot as plt\n",
    "import seaborn as sns\n",
    "from arch.bootstrap import IIDBootstrap\n",
    "from scipy.stats import kurtosis\n",
    "import re\n",
    "import time\n",
    "import json\n",
    "from collections import Counter\n",
    "#import dask\n",
    "#from dask.distributed import Client\n",
    "#from dask import delayed"
   ]
  },
  {
   "cell_type": "code",
   "execution_count": null,
   "metadata": {},
   "outputs": [],
   "source": [
    "import glob\n",
    "import pandas as pd\n",
    "path= '/dicom/'\n",
    "label_path='with_category.csv'\n",
    "indicative=\"000\"\n",
    "df_labels=pd.read_csv(label_path,sep=';')\n",
    "df_labels['id1']=indicative+df_labels['id'].astype(str)\n",
    "df_labels['path']=path+df_labels['id1']+'/'"
   ]
  },
  {
   "cell_type": "code",
   "execution_count": null,
   "metadata": {},
   "outputs": [],
   "source": [
    "# skipping studies with previous surgeries or artifacts\n",
    "skip = ['00020023096','00020029351','00030026189','00030037155','00030037273','00050009584','00050002822',\n",
    "        '00050004047','00050004076','00050004345','00050004468','00050004755']\n",
    "df_labels=df_labels[~df_labels.id1.isin(skip)]"
   ]
  },
  {
   "cell_type": "markdown",
   "metadata": {},
   "source": [
    "##  Get images and collapsing data"
   ]
  },
  {
   "cell_type": "code",
   "execution_count": null,
   "metadata": {},
   "outputs": [],
   "source": [
    "path_health=df_labels[df_labels.label==1].path\n",
    "path_pathologic=df_labels[df_labels.label==0].path\n",
    "nx=45;ny=109;nz=91\n",
    "space = 'mask'\n",
    "dat_healt=getDataFromDirectoryP(path_health.values,space,nx,ny,nz)\n",
    "dat_pathologic=getDataFromDirectoryP(path_pathologic.values,space,nx,ny,nz)\n"
   ]
  },
  {
   "cell_type": "code",
   "execution_count": null,
   "metadata": {},
   "outputs": [],
   "source": [
    "print('health neuroimaging: ',len(dat_healt))\n",
    "print('pathologic neuroimaging: ',len(dat_pathologic))"
   ]
  },
  {
   "cell_type": "markdown",
   "metadata": {},
   "source": [
    "# Threshold: Healty VS Pathologic"
   ]
  },
  {
   "cell_type": "code",
   "execution_count": null,
   "metadata": {},
   "outputs": [],
   "source": [
    "W = [.9,.1]\n",
    "n_boost = 1000\n",
    "trheshol,check,PH,PP,diff_healt , diff_patholo, diff_healt0 , diff_patholo0 = thersPH(dat_healt,dat_pathologic,W,n_boost)"
   ]
  },
  {
   "cell_type": "code",
   "execution_count": null,
   "metadata": {},
   "outputs": [],
   "source": [
    "print('True postive Diferences without weight: ', np.mean(check['No_weight']),\n",
    "      '\\nTrue postive  Diferences with weight: ',np.mean(check['weight']))"
   ]
  },
  {
   "cell_type": "code",
   "execution_count": null,
   "metadata": {},
   "outputs": [],
   "source": [
    "f, (ax1) = plt.subplots(1, 1,figsize=(10, 5))\n",
    "sns.distplot(diff_healt0, ax=ax1, kde=True, rug=True, label=\"Healthy\")\n",
    "sns.distplot(diff_patholo0, ax=ax1, kde=True, rug=True, label=\"Pathologic\")\n",
    "ax1.set(xlabel=r'$\\overline{dp}$', ylabel='Count')\n",
    "f.legend(bbox_to_anchor=(.5, .7), loc=2, borderaxespad=0., title='Group')\n",
    "plt.show()"
   ]
  },
  {
   "cell_type": "markdown",
   "metadata": {},
   "source": [
    "# Permutations between hemispheres test (HCP)"
   ]
  },
  {
   "cell_type": "code",
   "execution_count": null,
   "metadata": {},
   "outputs": [],
   "source": [
    "# checking the random generation\n",
    "n=nx*ny*nz\n",
    "check_rangene = []\n",
    "for i in range(1000):\n",
    "    cal = permut(n)\n",
    "    check_rangene.append(cal)"
   ]
  },
  {
   "cell_type": "code",
   "execution_count": null,
   "metadata": {},
   "outputs": [],
   "source": [
    "print('average of unique values per iteration: ',np.mean(check_rangene))"
   ]
  },
  {
   "cell_type": "code",
   "execution_count": null,
   "metadata": {},
   "outputs": [],
   "source": [
    "resul_permut_helth=[]\n",
    "resul_permut_pathologic=[]\n",
    "n=nx*ny*nz"
   ]
  },
  {
   "cell_type": "code",
   "execution_count": null,
   "metadata": {},
   "outputs": [],
   "source": [
    "%%time\n",
    "for i in np.arange(len(dat_healt)):\n",
    "    res = rPermut(500,dat_healt[i]['left'],dat_healt[i]['right'],1,n,'rate')\n",
    "    Resh = {'R':res['R'],'label':dat_healt[i]['label'].tolist(),'norm_x':res['norm_x'],'norm_y':res['norm_y']}\n",
    "    resul_permut_helth.append(Resh)"
   ]
  },
  {
   "cell_type": "code",
   "execution_count": null,
   "metadata": {},
   "outputs": [],
   "source": [
    "%%time\n",
    "for i in np.arange(len(dat_pathologic)):\n",
    "    res = rPermut(500,dat_pathologic[i]['left'],dat_pathologic[i]['right'],1,n,'rate')\n",
    "    Resp = {'R':res['R'],'label':dat_pathologic[i]['label'].tolist(),'norm_x':res['norm_x'],'norm_y':res['norm_y']}\n",
    "    resul_permut_pathologic.append(Resp)"
   ]
  },
  {
   "cell_type": "code",
   "execution_count": null,
   "metadata": {},
   "outputs": [],
   "source": [
    "print('health neuroimaging test: ',len(resul_permut_helth))\n",
    "print('pathologic neuroimaging test: ',len(resul_permut_pathologic))"
   ]
  },
  {
   "cell_type": "markdown",
   "metadata": {},
   "source": [
    "# Save and load data"
   ]
  },
  {
   "cell_type": "code",
   "execution_count": null,
   "metadata": {},
   "outputs": [],
   "source": [
    "# Save healty\n",
    "dumped_healty = json.dumps(resul_permut_helth, cls=NumpyEncoder) # , sort_keys=False, indent=4\n",
    "\n",
    "with open('resul_permut_helth_corrected.json', 'w') as f:\n",
    "    json.dump(dumped_healty, f) # , sort_keys=False, indent=4"
   ]
  },
  {
   "cell_type": "code",
   "execution_count": null,
   "metadata": {},
   "outputs": [],
   "source": [
    "# Save patholigic\n",
    "dumped_pathologic = json.dumps(resul_permut_pathologic, cls=NumpyEncoder) # , sort_keys=False, indent=4\n",
    "\n",
    "with open('resul_permut_pathologic_corrected.json', 'w') as f:\n",
    "    json.dump(dumped_pathologic, f) # , sort_keys=False, indent=4"
   ]
  },
  {
   "cell_type": "code",
   "execution_count": null,
   "metadata": {},
   "outputs": [],
   "source": [
    "# Load data healty\n",
    "with open('resul_permut_helth_corrected.json', 'r') as fp:\n",
    "    permut_helth = json.load(fp)\n",
    "res_permut_helth = json.loads(permut_helth) "
   ]
  },
  {
   "cell_type": "code",
   "execution_count": null,
   "metadata": {},
   "outputs": [],
   "source": [
    "# Load data pathologic\n",
    "with open('resul_permut_pathologic_corrected.json', 'r') as fp:\n",
    "    permut_pathologic = json.load(fp)\n",
    "res_permut_pathologic = json.loads(permut_pathologic) "
   ]
  },
  {
   "cell_type": "code",
   "execution_count": null,
   "metadata": {},
   "outputs": [],
   "source": [
    "len(res_permut_pathologic)"
   ]
  },
  {
   "cell_type": "markdown",
   "metadata": {},
   "source": [
    "# Comparing results"
   ]
  },
  {
   "cell_type": "code",
   "execution_count": null,
   "metadata": {},
   "outputs": [],
   "source": [
    "distTest(20,5,4,res_permut_helth[0:20],'healty','L1',col='#9addf4')"
   ]
  },
  {
   "cell_type": "code",
   "execution_count": null,
   "metadata": {},
   "outputs": [],
   "source": [
    "distTest(15,5,3,res_permut_pathologic[0:15],'Pathologic','L1',col='#e94975')"
   ]
  },
  {
   "cell_type": "code",
   "execution_count": null,
   "metadata": {},
   "outputs": [],
   "source": [
    "healthy_summary = compareTest(res_permut_helth)"
   ]
  },
  {
   "cell_type": "code",
   "execution_count": null,
   "metadata": {},
   "outputs": [],
   "source": [
    "pathologic_summary = compareTest(res_permut_pathologic)"
   ]
  },
  {
   "cell_type": "code",
   "execution_count": null,
   "metadata": {},
   "outputs": [],
   "source": [
    "threshold0=0.9980001\n",
    "thresholdn=1.00170625\n",
    "thresholdsd=0.00088248\n",
    "reff=0.01\n",
    "checkH = checkHCP(res_permut_helth,threshold0,thresholdn,thresholdsd,reff)\n",
    "checkP = checkHCP(res_permut_pathologic,threshold0,thresholdn,thresholdsd,reff)"
   ]
  },
  {
   "cell_type": "code",
   "execution_count": null,
   "metadata": {},
   "outputs": [],
   "source": [
    "np.unique(checkH, return_counts=True)"
   ]
  },
  {
   "cell_type": "code",
   "execution_count": null,
   "metadata": {},
   "outputs": [],
   "source": [
    "np.unique(checkP, return_counts=True)"
   ]
  },
  {
   "cell_type": "markdown",
   "metadata": {},
   "source": [
    "## Detect label with high r-permut power"
   ]
  },
  {
   "cell_type": "code",
   "execution_count": null,
   "metadata": {},
   "outputs": [],
   "source": [
    "l_low = np.median(healthy_summary['d_q005'])\n",
    "l_upp = np.median(healthy_summary['d_q995'])\n",
    "true_class,false_class,all_labels = detectLabelHigh(pathologic_summary['d_q5'],l_low,l_upp)\n",
    "print('Low: ',l_low)\n",
    "print('Upper: ',l_upp)"
   ]
  },
  {
   "cell_type": "code",
   "execution_count": null,
   "metadata": {},
   "outputs": [],
   "source": [
    "n_true = Counter(true_class)\n",
    "n_false = Counter(false_class)\n",
    "\n",
    "true_key = n_true.keys()\n",
    "false_key = n_false.keys()\n",
    "power_detect = {}\n",
    "for k in true_key:\n",
    "    if(k in false_key):\n",
    "        power_detect[k] = {'true':n_true[k],'false':n_false[k],'true_prop':np.round(n_true[k]/(n_true[k]+n_false[k]),3)}\n",
    "    else:\n",
    "        power_detect[k] = {'true':n_true[k],'false':0,'true_prop':1}"
   ]
  },
  {
   "cell_type": "code",
   "execution_count": null,
   "metadata": {},
   "outputs": [],
   "source": [
    "power_detect"
   ]
  },
  {
   "cell_type": "markdown",
   "metadata": {},
   "source": [
    "# rpermut whitn non-zero pixels"
   ]
  },
  {
   "cell_type": "code",
   "execution_count": null,
   "metadata": {},
   "outputs": [],
   "source": [
    "resul_permut_helth_nonZero=[]\n",
    "resul_permut_pathologic_nonZero=[]"
   ]
  },
  {
   "cell_type": "code",
   "execution_count": null,
   "metadata": {},
   "outputs": [],
   "source": [
    "%%time\n",
    "for i in np.arange(len(dat_healt)):\n",
    "    res = rPermut2(500,dat_healt[i]['left'],dat_healt[i]['right'],1,n,'rate')\n",
    "    Resh = {'R':res['R'],'label':dat_healt[i]['label'],'norm_x':res['norm_x'],'norm_y':res['norm_y']}\n",
    "    resul_permut_helth_nonZero.append(Resh)\n",
    "    "
   ]
  },
  {
   "cell_type": "code",
   "execution_count": null,
   "metadata": {},
   "outputs": [],
   "source": [
    "%%time\n",
    "for i in np.arange(len(dat_pathologic)):\n",
    "    res = rPermut2(500,dat_pathologic[i]['left'],dat_pathologic[i]['right'],1,n,'rate')\n",
    "    Resp = {'R':res['R'],'label':dat_pathologic[i]['label'].tolist(),'norm_x':res['norm_x'],'norm_y':res['norm_y']}\n",
    "    resul_permut_pathologic_nonZero.append(Resp)"
   ]
  },
  {
   "cell_type": "code",
   "execution_count": null,
   "metadata": {},
   "outputs": [],
   "source": [
    "print('health neuroimaging test: ',len(resul_permut_helth_nonZero))\n",
    "print('pathologic neuroimaging test: ',len(resul_permut_pathologic_nonZero))"
   ]
  },
  {
   "cell_type": "code",
   "execution_count": null,
   "metadata": {},
   "outputs": [],
   "source": [
    "# Save healty\n",
    "dumped_healty = json.dumps(resul_permut_helth_nonZero, cls=NumpyEncoder) # , sort_keys=False, indent=4\n",
    "\n",
    "with open('resul_permut_helth_nonZero.json', 'w') as f:\n",
    "    json.dump(dumped_healty, f) # , sort_keys=False, indent=4"
   ]
  },
  {
   "cell_type": "code",
   "execution_count": null,
   "metadata": {},
   "outputs": [],
   "source": [
    "# Save patholigic\n",
    "dumped_pathologic = json.dumps(resul_permut_pathologic_nonZero, cls=NumpyEncoder) # , sort_keys=False, indent=4\n",
    "\n",
    "with open('resul_permut_pathologic_nonZero.json', 'w') as f:\n",
    "    json.dump(dumped_pathologic, f) # , sort_keys=False, indent=4"
   ]
  },
  {
   "cell_type": "code",
   "execution_count": null,
   "metadata": {},
   "outputs": [],
   "source": [
    "distTest(20,5,4,resul_permut_helth_nonZero[0:20],'healty','L1')"
   ]
  },
  {
   "cell_type": "code",
   "execution_count": null,
   "metadata": {},
   "outputs": [],
   "source": [
    "distTest(20,5,4,resul_permut_pathologic_nonZero[0:20],'pathologic','L1')"
   ]
  },
  {
   "cell_type": "code",
   "execution_count": null,
   "metadata": {},
   "outputs": [],
   "source": [
    "healthy_summary_nonZero = compareTest(resul_permut_pathologic_nonZero)"
   ]
  },
  {
   "cell_type": "code",
   "execution_count": null,
   "metadata": {},
   "outputs": [],
   "source": [
    "patholog_summary_nonZero = compareTest(resul_permut_helth_nonZero)"
   ]
  },
  {
   "cell_type": "code",
   "execution_count": null,
   "metadata": {},
   "outputs": [],
   "source": []
  }
 ],
 "metadata": {
  "kernelspec": {
   "display_name": "Python 3",
   "language": "python",
   "name": "python3"
  },
  "language_info": {
   "codemirror_mode": {
    "name": "ipython",
    "version": 3
   },
   "file_extension": ".py",
   "mimetype": "text/x-python",
   "name": "python",
   "nbconvert_exporter": "python",
   "pygments_lexer": "ipython3",
   "version": "3.7.2"
  }
 },
 "nbformat": 4,
 "nbformat_minor": 2
}
