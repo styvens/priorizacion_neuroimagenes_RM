{
 "cells": [
  {
   "cell_type": "code",
   "execution_count": null,
   "metadata": {},
   "outputs": [],
   "source": [
    "import numpy as np\n",
    "from nilearn import image\n",
    "from nilearn.image import get_data\n",
    "import matplotlib\n",
    "import matplotlib.pyplot as plt\n",
    "import seaborn as sns\n",
    "from arch.bootstrap import IIDBootstrap\n",
    "from scipy.stats import kurtosis\n",
    "import re\n",
    "import time\n",
    "import json\n",
    "import os\n",
    "#import dask\n",
    "#from dask.distributed import Client\n",
    "#from dask import delayed"
   ]
  },
  {
   "cell_type": "markdown",
   "metadata": {},
   "source": [
    "# Get images and collapsing data"
   ]
  },
  {
   "cell_type": "code",
   "execution_count": null,
   "metadata": {},
   "outputs": [],
   "source": [
    "import glob\n",
    "import pandas as pd\n",
    "path= 'Bianca_test_results'\n",
    "label_path='with_category.csv'\n",
    "indicative=\"000\"\n",
    "df_labels=pd.read_csv(label_path,sep=';')\n",
    "df_labels['id1']=indicative+df_labels['id'].astype(str)"
   ]
  },
  {
   "cell_type": "code",
   "execution_count": null,
   "metadata": {},
   "outputs": [],
   "source": [
    "img_dir = os.listdir(\"Bianca_test_results\")\n",
    "img_dir.remove('NCC_bianca') "
   ]
  },
  {
   "cell_type": "code",
   "execution_count": null,
   "metadata": {},
   "outputs": [],
   "source": [
    "img_dir = [st for st in img_dir if st!='.DS_Store']\n",
    "len(img_dir)"
   ]
  },
  {
   "cell_type": "code",
   "execution_count": null,
   "metadata": {},
   "outputs": [],
   "source": [
    "nx=45;ny=109;nz=91;nt=1\n",
    "dat_healt, dat_pathologic=getDataFromDirectoryBianca(img_dir,nx,ny,nz,nt)"
   ]
  },
  {
   "cell_type": "code",
   "execution_count": null,
   "metadata": {},
   "outputs": [],
   "source": [
    "print('health neuroimaging: ',len(dat_healt))\n",
    "print('pathologic neuroimaging: ',len(dat_pathologic))"
   ]
  },
  {
   "cell_type": "markdown",
   "metadata": {},
   "source": [
    "# Permutations between hemispheres test (HCP)"
   ]
  },
  {
   "cell_type": "code",
   "execution_count": null,
   "metadata": {},
   "outputs": [],
   "source": [
    "# checking the random generation\n",
    "n=nx*ny*nz\n",
    "check_rangene = []\n",
    "for i in range(1000):\n",
    "    cal = permut(n)\n",
    "    check_rangene.append(cal)"
   ]
  },
  {
   "cell_type": "code",
   "execution_count": null,
   "metadata": {},
   "outputs": [],
   "source": [
    "print('average of unique values per iteration: ',np.mean(check_rangene))"
   ]
  },
  {
   "cell_type": "code",
   "execution_count": null,
   "metadata": {},
   "outputs": [],
   "source": [
    "resul_permut_helth=[]\n",
    "resul_permut_pathologic=[]\n",
    "n=nx*ny*nz"
   ]
  },
  {
   "cell_type": "code",
   "execution_count": null,
   "metadata": {},
   "outputs": [],
   "source": [
    "%%time\n",
    "for i in np.arange(len(dat_healt)):\n",
    "    res = rPermut(500,dat_healt[i]['left'],dat_healt[i]['right'],1,n,'rate')\n",
    "    Resh = {'R':res['R'],'label':dat_healt[i]['label'].tolist(),'norm_x':res['norm_x'],'norm_y':res['norm_y']}\n",
    "    resul_permut_helth.append(Resh)"
   ]
  },
  {
   "cell_type": "code",
   "execution_count": null,
   "metadata": {},
   "outputs": [],
   "source": [
    "%%time\n",
    "for i in np.arange(len(dat_pathologic)):\n",
    "    res = rPermut(500,dat_pathologic[i]['left'],dat_pathologic[i]['right'],1,n,'rate')\n",
    "    #Rp = res['R']\n",
    "    #lp = res['label']\n",
    "    Resp = {'R':res['R'],'label':dat_pathologic[i]['label'].tolist(),'norm_x':res['norm_x'],'norm_y':res['norm_y']}\n",
    "    resul_permut_pathologic.append(Resp)"
   ]
  },
  {
   "cell_type": "code",
   "execution_count": null,
   "metadata": {},
   "outputs": [],
   "source": [
    "print('health neuroimaging test: ',len(resul_permut_helth))\n",
    "print('pathologic neuroimaging test: ',len(resul_permut_pathologic))"
   ]
  },
  {
   "cell_type": "markdown",
   "metadata": {},
   "source": [
    "# Save and load data"
   ]
  },
  {
   "cell_type": "code",
   "execution_count": null,
   "metadata": {},
   "outputs": [],
   "source": [
    "# Save healty\n",
    "dumped_healty = json.dumps(resul_permut_helth, cls=NumpyEncoder)\n",
    "\n",
    "with open('resul_permut_helth_Bianca_corrected.json', 'w') as f:\n",
    "    json.dump(dumped_healty, f)"
   ]
  },
  {
   "cell_type": "code",
   "execution_count": null,
   "metadata": {},
   "outputs": [],
   "source": [
    "# Save patholigic\n",
    "dumped_pathologic = json.dumps(resul_permut_pathologic, cls=NumpyEncoder)\n",
    "\n",
    "with open('resul_permut_pathologic_Bianca_corrected.json', 'w') as f:\n",
    "    json.dump(dumped_pathologic, f)"
   ]
  },
  {
   "cell_type": "code",
   "execution_count": null,
   "metadata": {},
   "outputs": [],
   "source": [
    "# Load data healty\n",
    "with open('resul_permut_helth_Bianca_corrected.json', 'r') as fp:\n",
    "    permut_helth = json.load(fp)\n",
    "res_permut_helth = json.loads(permut_helth) "
   ]
  },
  {
   "cell_type": "code",
   "execution_count": null,
   "metadata": {},
   "outputs": [],
   "source": [
    "# Load data pathologic\n",
    "with open('resul_permut_pathologic_Bianca_corrected.json', 'r') as fp:\n",
    "    permut_pathologic = json.load(fp)\n",
    "res_permut_pathologic = json.loads(permut_pathologic) "
   ]
  },
  {
   "cell_type": "code",
   "execution_count": null,
   "metadata": {},
   "outputs": [],
   "source": [
    "len(res_permut_pathologic[0]['R'])"
   ]
  },
  {
   "cell_type": "markdown",
   "metadata": {},
   "source": [
    "# Comparing results"
   ]
  },
  {
   "cell_type": "code",
   "execution_count": null,
   "metadata": {},
   "outputs": [],
   "source": [
    "distTest(20,5,4,res_permut_helth[0:20],'healty','L1',col='#9addf4')\n"
   ]
  },
  {
   "cell_type": "code",
   "execution_count": null,
   "metadata": {},
   "outputs": [],
   "source": [
    "distTest(15,5,3,res_permut_pathologic[0:15],'Pathologic','L1',col='#e94975')\n"
   ]
  },
  {
   "cell_type": "code",
   "execution_count": null,
   "metadata": {},
   "outputs": [],
   "source": [
    "healthy_summary = compareTest(res_permut_helth)\n"
   ]
  },
  {
   "cell_type": "code",
   "execution_count": null,
   "metadata": {},
   "outputs": [],
   "source": [
    "pathologic_summary = compareTest(res_permut_pathologic)\n"
   ]
  },
  {
   "cell_type": "code",
   "execution_count": null,
   "metadata": {},
   "outputs": [],
   "source": [
    "thresholdsd=0.01073666\n",
    "reff=0.01\n",
    "checkH = checkHCP(res_permut_helth,threshold0,thresholdn,thresholdsd,reff)\n",
    "checkP = checkHCP(res_permut_pathologic,threshold0,thresholdn,thresholdsd,reff)"
   ]
  },
  {
   "cell_type": "code",
   "execution_count": null,
   "metadata": {},
   "outputs": [],
   "source": [
    "np.unique(checkH, return_counts=True)"
   ]
  },
  {
   "cell_type": "code",
   "execution_count": null,
   "metadata": {},
   "outputs": [],
   "source": [
    "np.unique(checkP, return_counts=True)"
   ]
  },
  {
   "cell_type": "code",
   "execution_count": null,
   "metadata": {},
   "outputs": [],
   "source": []
  }
 ],
 "metadata": {
  "kernelspec": {
   "display_name": "Python 3",
   "language": "python",
   "name": "python3"
  },
  "language_info": {
   "codemirror_mode": {
    "name": "ipython",
    "version": 3
   },
   "file_extension": ".py",
   "mimetype": "text/x-python",
   "name": "python",
   "nbconvert_exporter": "python",
   "pygments_lexer": "ipython3",
   "version": "3.7.2"
  }
 },
 "nbformat": 4,
 "nbformat_minor": 2
}
